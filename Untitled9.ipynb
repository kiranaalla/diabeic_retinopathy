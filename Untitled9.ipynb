{
  "cells": [
    {
      "cell_type": "code",
      "execution_count": null,
      "metadata": {
        "colab": {
          "base_uri": "https://localhost:8080/"
        },
        "id": "fLSemUPF7RyM",
        "outputId": "684417af-5886-4b94-b0e8-37de003d5913"
      },
      "outputs": [
        {
          "output_type": "stream",
          "name": "stdout",
          "text": [
            "Mounted at /content/drive\n"
          ]
        }
      ],
      "source": [
        "# Step 1: Mount Google Drive (if needed)\n",
        "from google.colab import drive\n",
        "drive.mount('/content/drive')"
      ]
    },
    {
      "cell_type": "code",
      "execution_count": null,
      "metadata": {
        "colab": {
          "base_uri": "https://localhost:8080/"
        },
        "id": "g8lH-FZ77TKY",
        "outputId": "5be88aee-8f65-4318-ad29-7f03760a8447"
      },
      "outputs": [
        {
          "output_type": "stream",
          "name": "stdout",
          "text": [
            "Extraction complete.\n"
          ]
        }
      ],
      "source": [
        "# Step 2: Unzip the uploaded dataset\n",
        "import zipfile\n",
        "import os\n",
        "\n",
        "zip_path = \"/content/drive/MyDrive/archive (2).zip\"  # Update this if your file has a different name\n",
        "extract_path = \"/content/diabetic_retinopathy\"\n",
        "\n",
        "with zipfile.ZipFile(zip_path, 'r') as zip_ref:\n",
        "    zip_ref.extractall(extract_path)\n",
        "\n",
        "print(\"Extraction complete.\")"
      ]
    },
    {
      "cell_type": "code",
      "execution_count": null,
      "metadata": {
        "id": "1xLDTTAE7TTX"
      },
      "outputs": [],
      "source": [
        "# Step 1: Import necessary libraries\n",
        "import os\n",
        "import pandas as pd\n",
        "import numpy as np\n",
        "import tensorflow as tf\n",
        "from tensorflow.keras.preprocessing.image import ImageDataGenerator\n",
        "import matplotlib.pyplot as plt"
      ]
    },
    {
      "cell_type": "code",
      "execution_count": null,
      "metadata": {
        "colab": {
          "base_uri": "https://localhost:8080/"
        },
        "id": "H7pi9dI77Taa",
        "outputId": "1f6dbccc-6673-437f-95a8-872c7206addc"
      },
      "outputs": [
        {
          "output_type": "execute_result",
          "data": {
            "text/plain": [
              "['gaussian_filtered_images']"
            ]
          },
          "metadata": {},
          "execution_count": 6
        }
      ],
      "source": [
        "# Step 2: Set paths\n",
        "BASE_DIR = \"/content/diabetic_retinopathy\"\n",
        "IMG_DIR = os.path.join(BASE_DIR, \"gaussian_filtered_images\")\n",
        "CSV_PATH = os.path.join(BASE_DIR, \"train.csv\")\n",
        "\n",
        "# Check the contents of the folder to ensure correct paths\n",
        "os.listdir(IMG_DIR)"
      ]
    },
    {
      "cell_type": "code",
      "execution_count": null,
      "metadata": {
        "colab": {
          "base_uri": "https://localhost:8080/",
          "height": 206
        },
        "id": "mJ4qicD07TfZ",
        "outputId": "b5430d39-dd1f-41a8-e7f9-263c43c228af"
      },
      "outputs": [
        {
          "output_type": "execute_result",
          "data": {
            "text/plain": [
              "        id_code  diagnosis\n",
              "0  000c1434d8d7          2\n",
              "1  001639a390f0          4\n",
              "2  0024cdab0c1e          1\n",
              "3  002c21358ce6          0\n",
              "4  005b95c28852          0"
            ],
            "text/html": [
              "\n",
              "  <div id=\"df-25f9c6e0-82c3-4c75-8db8-ce0d488ed974\" class=\"colab-df-container\">\n",
              "    <div>\n",
              "<style scoped>\n",
              "    .dataframe tbody tr th:only-of-type {\n",
              "        vertical-align: middle;\n",
              "    }\n",
              "\n",
              "    .dataframe tbody tr th {\n",
              "        vertical-align: top;\n",
              "    }\n",
              "\n",
              "    .dataframe thead th {\n",
              "        text-align: right;\n",
              "    }\n",
              "</style>\n",
              "<table border=\"1\" class=\"dataframe\">\n",
              "  <thead>\n",
              "    <tr style=\"text-align: right;\">\n",
              "      <th></th>\n",
              "      <th>id_code</th>\n",
              "      <th>diagnosis</th>\n",
              "    </tr>\n",
              "  </thead>\n",
              "  <tbody>\n",
              "    <tr>\n",
              "      <th>0</th>\n",
              "      <td>000c1434d8d7</td>\n",
              "      <td>2</td>\n",
              "    </tr>\n",
              "    <tr>\n",
              "      <th>1</th>\n",
              "      <td>001639a390f0</td>\n",
              "      <td>4</td>\n",
              "    </tr>\n",
              "    <tr>\n",
              "      <th>2</th>\n",
              "      <td>0024cdab0c1e</td>\n",
              "      <td>1</td>\n",
              "    </tr>\n",
              "    <tr>\n",
              "      <th>3</th>\n",
              "      <td>002c21358ce6</td>\n",
              "      <td>0</td>\n",
              "    </tr>\n",
              "    <tr>\n",
              "      <th>4</th>\n",
              "      <td>005b95c28852</td>\n",
              "      <td>0</td>\n",
              "    </tr>\n",
              "  </tbody>\n",
              "</table>\n",
              "</div>\n",
              "    <div class=\"colab-df-buttons\">\n",
              "\n",
              "  <div class=\"colab-df-container\">\n",
              "    <button class=\"colab-df-convert\" onclick=\"convertToInteractive('df-25f9c6e0-82c3-4c75-8db8-ce0d488ed974')\"\n",
              "            title=\"Convert this dataframe to an interactive table.\"\n",
              "            style=\"display:none;\">\n",
              "\n",
              "  <svg xmlns=\"http://www.w3.org/2000/svg\" height=\"24px\" viewBox=\"0 -960 960 960\">\n",
              "    <path d=\"M120-120v-720h720v720H120Zm60-500h600v-160H180v160Zm220 220h160v-160H400v160Zm0 220h160v-160H400v160ZM180-400h160v-160H180v160Zm440 0h160v-160H620v160ZM180-180h160v-160H180v160Zm440 0h160v-160H620v160Z\"/>\n",
              "  </svg>\n",
              "    </button>\n",
              "\n",
              "  <style>\n",
              "    .colab-df-container {\n",
              "      display:flex;\n",
              "      gap: 12px;\n",
              "    }\n",
              "\n",
              "    .colab-df-convert {\n",
              "      background-color: #E8F0FE;\n",
              "      border: none;\n",
              "      border-radius: 50%;\n",
              "      cursor: pointer;\n",
              "      display: none;\n",
              "      fill: #1967D2;\n",
              "      height: 32px;\n",
              "      padding: 0 0 0 0;\n",
              "      width: 32px;\n",
              "    }\n",
              "\n",
              "    .colab-df-convert:hover {\n",
              "      background-color: #E2EBFA;\n",
              "      box-shadow: 0px 1px 2px rgba(60, 64, 67, 0.3), 0px 1px 3px 1px rgba(60, 64, 67, 0.15);\n",
              "      fill: #174EA6;\n",
              "    }\n",
              "\n",
              "    .colab-df-buttons div {\n",
              "      margin-bottom: 4px;\n",
              "    }\n",
              "\n",
              "    [theme=dark] .colab-df-convert {\n",
              "      background-color: #3B4455;\n",
              "      fill: #D2E3FC;\n",
              "    }\n",
              "\n",
              "    [theme=dark] .colab-df-convert:hover {\n",
              "      background-color: #434B5C;\n",
              "      box-shadow: 0px 1px 3px 1px rgba(0, 0, 0, 0.15);\n",
              "      filter: drop-shadow(0px 1px 2px rgba(0, 0, 0, 0.3));\n",
              "      fill: #FFFFFF;\n",
              "    }\n",
              "  </style>\n",
              "\n",
              "    <script>\n",
              "      const buttonEl =\n",
              "        document.querySelector('#df-25f9c6e0-82c3-4c75-8db8-ce0d488ed974 button.colab-df-convert');\n",
              "      buttonEl.style.display =\n",
              "        google.colab.kernel.accessAllowed ? 'block' : 'none';\n",
              "\n",
              "      async function convertToInteractive(key) {\n",
              "        const element = document.querySelector('#df-25f9c6e0-82c3-4c75-8db8-ce0d488ed974');\n",
              "        const dataTable =\n",
              "          await google.colab.kernel.invokeFunction('convertToInteractive',\n",
              "                                                    [key], {});\n",
              "        if (!dataTable) return;\n",
              "\n",
              "        const docLinkHtml = 'Like what you see? Visit the ' +\n",
              "          '<a target=\"_blank\" href=https://colab.research.google.com/notebooks/data_table.ipynb>data table notebook</a>'\n",
              "          + ' to learn more about interactive tables.';\n",
              "        element.innerHTML = '';\n",
              "        dataTable['output_type'] = 'display_data';\n",
              "        await google.colab.output.renderOutput(dataTable, element);\n",
              "        const docLink = document.createElement('div');\n",
              "        docLink.innerHTML = docLinkHtml;\n",
              "        element.appendChild(docLink);\n",
              "      }\n",
              "    </script>\n",
              "  </div>\n",
              "\n",
              "\n",
              "    <div id=\"df-7571182d-92d0-41a7-b469-26b17e10bfa9\">\n",
              "      <button class=\"colab-df-quickchart\" onclick=\"quickchart('df-7571182d-92d0-41a7-b469-26b17e10bfa9')\"\n",
              "                title=\"Suggest charts\"\n",
              "                style=\"display:none;\">\n",
              "\n",
              "<svg xmlns=\"http://www.w3.org/2000/svg\" height=\"24px\"viewBox=\"0 0 24 24\"\n",
              "     width=\"24px\">\n",
              "    <g>\n",
              "        <path d=\"M19 3H5c-1.1 0-2 .9-2 2v14c0 1.1.9 2 2 2h14c1.1 0 2-.9 2-2V5c0-1.1-.9-2-2-2zM9 17H7v-7h2v7zm4 0h-2V7h2v10zm4 0h-2v-4h2v4z\"/>\n",
              "    </g>\n",
              "</svg>\n",
              "      </button>\n",
              "\n",
              "<style>\n",
              "  .colab-df-quickchart {\n",
              "      --bg-color: #E8F0FE;\n",
              "      --fill-color: #1967D2;\n",
              "      --hover-bg-color: #E2EBFA;\n",
              "      --hover-fill-color: #174EA6;\n",
              "      --disabled-fill-color: #AAA;\n",
              "      --disabled-bg-color: #DDD;\n",
              "  }\n",
              "\n",
              "  [theme=dark] .colab-df-quickchart {\n",
              "      --bg-color: #3B4455;\n",
              "      --fill-color: #D2E3FC;\n",
              "      --hover-bg-color: #434B5C;\n",
              "      --hover-fill-color: #FFFFFF;\n",
              "      --disabled-bg-color: #3B4455;\n",
              "      --disabled-fill-color: #666;\n",
              "  }\n",
              "\n",
              "  .colab-df-quickchart {\n",
              "    background-color: var(--bg-color);\n",
              "    border: none;\n",
              "    border-radius: 50%;\n",
              "    cursor: pointer;\n",
              "    display: none;\n",
              "    fill: var(--fill-color);\n",
              "    height: 32px;\n",
              "    padding: 0;\n",
              "    width: 32px;\n",
              "  }\n",
              "\n",
              "  .colab-df-quickchart:hover {\n",
              "    background-color: var(--hover-bg-color);\n",
              "    box-shadow: 0 1px 2px rgba(60, 64, 67, 0.3), 0 1px 3px 1px rgba(60, 64, 67, 0.15);\n",
              "    fill: var(--button-hover-fill-color);\n",
              "  }\n",
              "\n",
              "  .colab-df-quickchart-complete:disabled,\n",
              "  .colab-df-quickchart-complete:disabled:hover {\n",
              "    background-color: var(--disabled-bg-color);\n",
              "    fill: var(--disabled-fill-color);\n",
              "    box-shadow: none;\n",
              "  }\n",
              "\n",
              "  .colab-df-spinner {\n",
              "    border: 2px solid var(--fill-color);\n",
              "    border-color: transparent;\n",
              "    border-bottom-color: var(--fill-color);\n",
              "    animation:\n",
              "      spin 1s steps(1) infinite;\n",
              "  }\n",
              "\n",
              "  @keyframes spin {\n",
              "    0% {\n",
              "      border-color: transparent;\n",
              "      border-bottom-color: var(--fill-color);\n",
              "      border-left-color: var(--fill-color);\n",
              "    }\n",
              "    20% {\n",
              "      border-color: transparent;\n",
              "      border-left-color: var(--fill-color);\n",
              "      border-top-color: var(--fill-color);\n",
              "    }\n",
              "    30% {\n",
              "      border-color: transparent;\n",
              "      border-left-color: var(--fill-color);\n",
              "      border-top-color: var(--fill-color);\n",
              "      border-right-color: var(--fill-color);\n",
              "    }\n",
              "    40% {\n",
              "      border-color: transparent;\n",
              "      border-right-color: var(--fill-color);\n",
              "      border-top-color: var(--fill-color);\n",
              "    }\n",
              "    60% {\n",
              "      border-color: transparent;\n",
              "      border-right-color: var(--fill-color);\n",
              "    }\n",
              "    80% {\n",
              "      border-color: transparent;\n",
              "      border-right-color: var(--fill-color);\n",
              "      border-bottom-color: var(--fill-color);\n",
              "    }\n",
              "    90% {\n",
              "      border-color: transparent;\n",
              "      border-bottom-color: var(--fill-color);\n",
              "    }\n",
              "  }\n",
              "</style>\n",
              "\n",
              "      <script>\n",
              "        async function quickchart(key) {\n",
              "          const quickchartButtonEl =\n",
              "            document.querySelector('#' + key + ' button');\n",
              "          quickchartButtonEl.disabled = true;  // To prevent multiple clicks.\n",
              "          quickchartButtonEl.classList.add('colab-df-spinner');\n",
              "          try {\n",
              "            const charts = await google.colab.kernel.invokeFunction(\n",
              "                'suggestCharts', [key], {});\n",
              "          } catch (error) {\n",
              "            console.error('Error during call to suggestCharts:', error);\n",
              "          }\n",
              "          quickchartButtonEl.classList.remove('colab-df-spinner');\n",
              "          quickchartButtonEl.classList.add('colab-df-quickchart-complete');\n",
              "        }\n",
              "        (() => {\n",
              "          let quickchartButtonEl =\n",
              "            document.querySelector('#df-7571182d-92d0-41a7-b469-26b17e10bfa9 button');\n",
              "          quickchartButtonEl.style.display =\n",
              "            google.colab.kernel.accessAllowed ? 'block' : 'none';\n",
              "        })();\n",
              "      </script>\n",
              "    </div>\n",
              "\n",
              "    </div>\n",
              "  </div>\n"
            ],
            "application/vnd.google.colaboratory.intrinsic+json": {
              "type": "dataframe",
              "variable_name": "df",
              "summary": "{\n  \"name\": \"df\",\n  \"rows\": 3662,\n  \"fields\": [\n    {\n      \"column\": \"id_code\",\n      \"properties\": {\n        \"dtype\": \"string\",\n        \"num_unique_values\": 3662,\n        \"samples\": [\n          \"90960ddf4d14\",\n          \"4e0656629d02\",\n          \"3b018e8b7303\"\n        ],\n        \"semantic_type\": \"\",\n        \"description\": \"\"\n      }\n    },\n    {\n      \"column\": \"diagnosis\",\n      \"properties\": {\n        \"dtype\": \"number\",\n        \"std\": 1,\n        \"min\": 0,\n        \"max\": 4,\n        \"num_unique_values\": 5,\n        \"samples\": [\n          4,\n          3,\n          1\n        ],\n        \"semantic_type\": \"\",\n        \"description\": \"\"\n      }\n    }\n  ]\n}"
            }
          },
          "metadata": {},
          "execution_count": 7
        }
      ],
      "source": [
        "# Step 3: Load CSV for any useful information\n",
        "df = pd.read_csv(\"/content/diabetic_retinopathy/train.csv\")\n",
        "\n",
        "# Display the first few rows to inspect it\n",
        "df.head()"
      ]
    },
    {
      "cell_type": "code",
      "execution_count": null,
      "metadata": {
        "colab": {
          "base_uri": "https://localhost:8080/"
        },
        "id": "_koAz_g77Tkw",
        "outputId": "e1b94a84-4e64-4ef2-9fc8-d18565745717"
      },
      "outputs": [
        {
          "output_type": "execute_result",
          "data": {
            "text/plain": [
              "['Moderate',\n",
              " 'Severe',\n",
              " 'No_DR',\n",
              " 'Mild',\n",
              " 'gaussian_filtered_images',\n",
              " 'Proliferate_DR']"
            ]
          },
          "metadata": {},
          "execution_count": 8
        }
      ],
      "source": [
        "import shutil\n",
        "import os\n",
        "\n",
        "# Define paths\n",
        "base_dir = '/content/diabetic_retinopathy/gaussian_filtered_images'\n",
        "wrong_path = os.path.join(base_dir, 'gaussian_filtered_images')  # The folder with the wrong structure\n",
        "correct_path = base_dir  # The correct path\n",
        "\n",
        "# List of class names to be moved\n",
        "class_names = ['Mild', 'Moderate', 'No_DR', 'Proliferate_DR', 'Severe']\n",
        "\n",
        "# Move subfolders to the correct location\n",
        "for class_name in class_names:\n",
        "    # Move the subfolder from the wrong path to the correct path\n",
        "    shutil.move(os.path.join(wrong_path, class_name), os.path.join(correct_path, class_name))\n",
        "\n",
        "# Check if the move was successful\n",
        "os.listdir(base_dir)"
      ]
    },
    {
      "cell_type": "code",
      "execution_count": null,
      "metadata": {
        "colab": {
          "base_uri": "https://localhost:8080/"
        },
        "id": "05qrry697TqB",
        "outputId": "995d92dc-c682-4c62-e307-7107432b8339"
      },
      "outputs": [
        {
          "output_type": "stream",
          "name": "stdout",
          "text": [
            "Removed extra folder: /content/diabetic_retinopathy/gaussian_filtered_images/gaussian_filtered_images\n"
          ]
        }
      ],
      "source": [
        "import shutil\n",
        "\n",
        "# Path to the extra folder\n",
        "extra_folder = '/content/diabetic_retinopathy/gaussian_filtered_images/gaussian_filtered_images'\n",
        "\n",
        "# Remove the extra folder if it exists\n",
        "if os.path.exists(extra_folder):\n",
        "    shutil.rmtree(extra_folder)\n",
        "    print(\"Removed extra folder:\", extra_folder)\n",
        "else:\n",
        "    print(\"No extra folder found.\")"
      ]
    },
    {
      "cell_type": "code",
      "execution_count": null,
      "metadata": {
        "id": "Iu5vcl5v7Tuc"
      },
      "outputs": [],
      "source": [
        "from tensorflow.keras.preprocessing.image import ImageDataGenerator\n",
        "\n",
        "# Define image size and batch size\n",
        "IMG_SIZE = (224, 224)\n",
        "BATCH_SIZE = 32\n",
        "IMG_DIR = '/content/diabetic_retinopathy/gaussian_filtered_images'  # your image directory\n",
        "\n",
        "# Define the ImageDataGenerator\n",
        "train_datagen = ImageDataGenerator(\n",
        "    rescale=1./255,\n",
        "    rotation_range=15,\n",
        "    zoom_range=0.1,\n",
        "    horizontal_flip=True,\n",
        "    validation_split=0.2  # 20% for validation\n",
        ")"
      ]
    },
    {
      "cell_type": "code",
      "execution_count": null,
      "metadata": {
        "colab": {
          "base_uri": "https://localhost:8080/"
        },
        "id": "6mplfOVL7Tzm",
        "outputId": "cb7d7b5b-dc4b-4eaf-94ac-4d92222b1c44"
      },
      "outputs": [
        {
          "output_type": "stream",
          "name": "stdout",
          "text": [
            "Found 2931 images belonging to 5 classes.\n",
            "Found 731 images belonging to 5 classes.\n",
            "Class labels: {'Mild': 0, 'Moderate': 1, 'No_DR': 2, 'Proliferate_DR': 3, 'Severe': 4}\n"
          ]
        }
      ],
      "source": [
        "# Create the train and validation generators\n",
        "train_generator = train_datagen.flow_from_directory(\n",
        "    IMG_DIR,\n",
        "    target_size=IMG_SIZE,\n",
        "    batch_size=BATCH_SIZE,\n",
        "    class_mode='categorical',\n",
        "    subset='training'\n",
        ")\n",
        "\n",
        "val_generator = train_datagen.flow_from_directory(\n",
        "    IMG_DIR,\n",
        "    target_size=IMG_SIZE,\n",
        "    batch_size=BATCH_SIZE,\n",
        "    class_mode='categorical',\n",
        "    subset='validation'\n",
        ")\n",
        "\n",
        "# Print class labels to verify\n",
        "print(\"Class labels:\", train_generator.class_indices)"
      ]
    },
    {
      "cell_type": "code",
      "execution_count": null,
      "metadata": {
        "colab": {
          "base_uri": "https://localhost:8080/",
          "height": 504
        },
        "id": "G-UGeYjp7T5D",
        "outputId": "95ba968d-c583-4a76-cdb7-1362e7cd560c"
      },
      "outputs": [
        {
          "output_type": "stream",
          "name": "stderr",
          "text": [
            "/usr/local/lib/python3.11/dist-packages/keras/src/layers/convolutional/base_conv.py:107: UserWarning: Do not pass an `input_shape`/`input_dim` argument to a layer. When using Sequential models, prefer using an `Input(shape)` object as the first layer in the model instead.\n",
            "  super().__init__(activity_regularizer=activity_regularizer, **kwargs)\n"
          ]
        },
        {
          "output_type": "display_data",
          "data": {
            "text/plain": [
              "\u001b[1mModel: \"sequential\"\u001b[0m\n"
            ],
            "text/html": [
              "<pre style=\"white-space:pre;overflow-x:auto;line-height:normal;font-family:Menlo,'DejaVu Sans Mono',consolas,'Courier New',monospace\"><span style=\"font-weight: bold\">Model: \"sequential\"</span>\n",
              "</pre>\n"
            ]
          },
          "metadata": {}
        },
        {
          "output_type": "display_data",
          "data": {
            "text/plain": [
              "┏━━━━━━━━━━━━━━━━━━━━━━━━━━━━━━━━━┳━━━━━━━━━━━━━━━━━━━━━━━━┳━━━━━━━━━━━━━━━┓\n",
              "┃\u001b[1m \u001b[0m\u001b[1mLayer (type)                   \u001b[0m\u001b[1m \u001b[0m┃\u001b[1m \u001b[0m\u001b[1mOutput Shape          \u001b[0m\u001b[1m \u001b[0m┃\u001b[1m \u001b[0m\u001b[1m      Param #\u001b[0m\u001b[1m \u001b[0m┃\n",
              "┡━━━━━━━━━━━━━━━━━━━━━━━━━━━━━━━━━╇━━━━━━━━━━━━━━━━━━━━━━━━╇━━━━━━━━━━━━━━━┩\n",
              "│ conv2d (\u001b[38;5;33mConv2D\u001b[0m)                 │ (\u001b[38;5;45mNone\u001b[0m, \u001b[38;5;34m222\u001b[0m, \u001b[38;5;34m222\u001b[0m, \u001b[38;5;34m32\u001b[0m)   │           \u001b[38;5;34m896\u001b[0m │\n",
              "├─────────────────────────────────┼────────────────────────┼───────────────┤\n",
              "│ max_pooling2d (\u001b[38;5;33mMaxPooling2D\u001b[0m)    │ (\u001b[38;5;45mNone\u001b[0m, \u001b[38;5;34m111\u001b[0m, \u001b[38;5;34m111\u001b[0m, \u001b[38;5;34m32\u001b[0m)   │             \u001b[38;5;34m0\u001b[0m │\n",
              "├─────────────────────────────────┼────────────────────────┼───────────────┤\n",
              "│ conv2d_1 (\u001b[38;5;33mConv2D\u001b[0m)               │ (\u001b[38;5;45mNone\u001b[0m, \u001b[38;5;34m109\u001b[0m, \u001b[38;5;34m109\u001b[0m, \u001b[38;5;34m64\u001b[0m)   │        \u001b[38;5;34m18,496\u001b[0m │\n",
              "├─────────────────────────────────┼────────────────────────┼───────────────┤\n",
              "│ max_pooling2d_1 (\u001b[38;5;33mMaxPooling2D\u001b[0m)  │ (\u001b[38;5;45mNone\u001b[0m, \u001b[38;5;34m54\u001b[0m, \u001b[38;5;34m54\u001b[0m, \u001b[38;5;34m64\u001b[0m)     │             \u001b[38;5;34m0\u001b[0m │\n",
              "├─────────────────────────────────┼────────────────────────┼───────────────┤\n",
              "│ conv2d_2 (\u001b[38;5;33mConv2D\u001b[0m)               │ (\u001b[38;5;45mNone\u001b[0m, \u001b[38;5;34m52\u001b[0m, \u001b[38;5;34m52\u001b[0m, \u001b[38;5;34m128\u001b[0m)    │        \u001b[38;5;34m73,856\u001b[0m │\n",
              "├─────────────────────────────────┼────────────────────────┼───────────────┤\n",
              "│ max_pooling2d_2 (\u001b[38;5;33mMaxPooling2D\u001b[0m)  │ (\u001b[38;5;45mNone\u001b[0m, \u001b[38;5;34m26\u001b[0m, \u001b[38;5;34m26\u001b[0m, \u001b[38;5;34m128\u001b[0m)    │             \u001b[38;5;34m0\u001b[0m │\n",
              "├─────────────────────────────────┼────────────────────────┼───────────────┤\n",
              "│ flatten (\u001b[38;5;33mFlatten\u001b[0m)               │ (\u001b[38;5;45mNone\u001b[0m, \u001b[38;5;34m86528\u001b[0m)          │             \u001b[38;5;34m0\u001b[0m │\n",
              "├─────────────────────────────────┼────────────────────────┼───────────────┤\n",
              "│ dense (\u001b[38;5;33mDense\u001b[0m)                   │ (\u001b[38;5;45mNone\u001b[0m, \u001b[38;5;34m128\u001b[0m)            │    \u001b[38;5;34m11,075,712\u001b[0m │\n",
              "├─────────────────────────────────┼────────────────────────┼───────────────┤\n",
              "│ dropout (\u001b[38;5;33mDropout\u001b[0m)               │ (\u001b[38;5;45mNone\u001b[0m, \u001b[38;5;34m128\u001b[0m)            │             \u001b[38;5;34m0\u001b[0m │\n",
              "├─────────────────────────────────┼────────────────────────┼───────────────┤\n",
              "│ dense_1 (\u001b[38;5;33mDense\u001b[0m)                 │ (\u001b[38;5;45mNone\u001b[0m, \u001b[38;5;34m5\u001b[0m)              │           \u001b[38;5;34m645\u001b[0m │\n",
              "└─────────────────────────────────┴────────────────────────┴───────────────┘\n"
            ],
            "text/html": [
              "<pre style=\"white-space:pre;overflow-x:auto;line-height:normal;font-family:Menlo,'DejaVu Sans Mono',consolas,'Courier New',monospace\">┏━━━━━━━━━━━━━━━━━━━━━━━━━━━━━━━━━┳━━━━━━━━━━━━━━━━━━━━━━━━┳━━━━━━━━━━━━━━━┓\n",
              "┃<span style=\"font-weight: bold\"> Layer (type)                    </span>┃<span style=\"font-weight: bold\"> Output Shape           </span>┃<span style=\"font-weight: bold\">       Param # </span>┃\n",
              "┡━━━━━━━━━━━━━━━━━━━━━━━━━━━━━━━━━╇━━━━━━━━━━━━━━━━━━━━━━━━╇━━━━━━━━━━━━━━━┩\n",
              "│ conv2d (<span style=\"color: #0087ff; text-decoration-color: #0087ff\">Conv2D</span>)                 │ (<span style=\"color: #00d7ff; text-decoration-color: #00d7ff\">None</span>, <span style=\"color: #00af00; text-decoration-color: #00af00\">222</span>, <span style=\"color: #00af00; text-decoration-color: #00af00\">222</span>, <span style=\"color: #00af00; text-decoration-color: #00af00\">32</span>)   │           <span style=\"color: #00af00; text-decoration-color: #00af00\">896</span> │\n",
              "├─────────────────────────────────┼────────────────────────┼───────────────┤\n",
              "│ max_pooling2d (<span style=\"color: #0087ff; text-decoration-color: #0087ff\">MaxPooling2D</span>)    │ (<span style=\"color: #00d7ff; text-decoration-color: #00d7ff\">None</span>, <span style=\"color: #00af00; text-decoration-color: #00af00\">111</span>, <span style=\"color: #00af00; text-decoration-color: #00af00\">111</span>, <span style=\"color: #00af00; text-decoration-color: #00af00\">32</span>)   │             <span style=\"color: #00af00; text-decoration-color: #00af00\">0</span> │\n",
              "├─────────────────────────────────┼────────────────────────┼───────────────┤\n",
              "│ conv2d_1 (<span style=\"color: #0087ff; text-decoration-color: #0087ff\">Conv2D</span>)               │ (<span style=\"color: #00d7ff; text-decoration-color: #00d7ff\">None</span>, <span style=\"color: #00af00; text-decoration-color: #00af00\">109</span>, <span style=\"color: #00af00; text-decoration-color: #00af00\">109</span>, <span style=\"color: #00af00; text-decoration-color: #00af00\">64</span>)   │        <span style=\"color: #00af00; text-decoration-color: #00af00\">18,496</span> │\n",
              "├─────────────────────────────────┼────────────────────────┼───────────────┤\n",
              "│ max_pooling2d_1 (<span style=\"color: #0087ff; text-decoration-color: #0087ff\">MaxPooling2D</span>)  │ (<span style=\"color: #00d7ff; text-decoration-color: #00d7ff\">None</span>, <span style=\"color: #00af00; text-decoration-color: #00af00\">54</span>, <span style=\"color: #00af00; text-decoration-color: #00af00\">54</span>, <span style=\"color: #00af00; text-decoration-color: #00af00\">64</span>)     │             <span style=\"color: #00af00; text-decoration-color: #00af00\">0</span> │\n",
              "├─────────────────────────────────┼────────────────────────┼───────────────┤\n",
              "│ conv2d_2 (<span style=\"color: #0087ff; text-decoration-color: #0087ff\">Conv2D</span>)               │ (<span style=\"color: #00d7ff; text-decoration-color: #00d7ff\">None</span>, <span style=\"color: #00af00; text-decoration-color: #00af00\">52</span>, <span style=\"color: #00af00; text-decoration-color: #00af00\">52</span>, <span style=\"color: #00af00; text-decoration-color: #00af00\">128</span>)    │        <span style=\"color: #00af00; text-decoration-color: #00af00\">73,856</span> │\n",
              "├─────────────────────────────────┼────────────────────────┼───────────────┤\n",
              "│ max_pooling2d_2 (<span style=\"color: #0087ff; text-decoration-color: #0087ff\">MaxPooling2D</span>)  │ (<span style=\"color: #00d7ff; text-decoration-color: #00d7ff\">None</span>, <span style=\"color: #00af00; text-decoration-color: #00af00\">26</span>, <span style=\"color: #00af00; text-decoration-color: #00af00\">26</span>, <span style=\"color: #00af00; text-decoration-color: #00af00\">128</span>)    │             <span style=\"color: #00af00; text-decoration-color: #00af00\">0</span> │\n",
              "├─────────────────────────────────┼────────────────────────┼───────────────┤\n",
              "│ flatten (<span style=\"color: #0087ff; text-decoration-color: #0087ff\">Flatten</span>)               │ (<span style=\"color: #00d7ff; text-decoration-color: #00d7ff\">None</span>, <span style=\"color: #00af00; text-decoration-color: #00af00\">86528</span>)          │             <span style=\"color: #00af00; text-decoration-color: #00af00\">0</span> │\n",
              "├─────────────────────────────────┼────────────────────────┼───────────────┤\n",
              "│ dense (<span style=\"color: #0087ff; text-decoration-color: #0087ff\">Dense</span>)                   │ (<span style=\"color: #00d7ff; text-decoration-color: #00d7ff\">None</span>, <span style=\"color: #00af00; text-decoration-color: #00af00\">128</span>)            │    <span style=\"color: #00af00; text-decoration-color: #00af00\">11,075,712</span> │\n",
              "├─────────────────────────────────┼────────────────────────┼───────────────┤\n",
              "│ dropout (<span style=\"color: #0087ff; text-decoration-color: #0087ff\">Dropout</span>)               │ (<span style=\"color: #00d7ff; text-decoration-color: #00d7ff\">None</span>, <span style=\"color: #00af00; text-decoration-color: #00af00\">128</span>)            │             <span style=\"color: #00af00; text-decoration-color: #00af00\">0</span> │\n",
              "├─────────────────────────────────┼────────────────────────┼───────────────┤\n",
              "│ dense_1 (<span style=\"color: #0087ff; text-decoration-color: #0087ff\">Dense</span>)                 │ (<span style=\"color: #00d7ff; text-decoration-color: #00d7ff\">None</span>, <span style=\"color: #00af00; text-decoration-color: #00af00\">5</span>)              │           <span style=\"color: #00af00; text-decoration-color: #00af00\">645</span> │\n",
              "└─────────────────────────────────┴────────────────────────┴───────────────┘\n",
              "</pre>\n"
            ]
          },
          "metadata": {}
        },
        {
          "output_type": "display_data",
          "data": {
            "text/plain": [
              "\u001b[1m Total params: \u001b[0m\u001b[38;5;34m11,169,605\u001b[0m (42.61 MB)\n"
            ],
            "text/html": [
              "<pre style=\"white-space:pre;overflow-x:auto;line-height:normal;font-family:Menlo,'DejaVu Sans Mono',consolas,'Courier New',monospace\"><span style=\"font-weight: bold\"> Total params: </span><span style=\"color: #00af00; text-decoration-color: #00af00\">11,169,605</span> (42.61 MB)\n",
              "</pre>\n"
            ]
          },
          "metadata": {}
        },
        {
          "output_type": "display_data",
          "data": {
            "text/plain": [
              "\u001b[1m Trainable params: \u001b[0m\u001b[38;5;34m11,169,605\u001b[0m (42.61 MB)\n"
            ],
            "text/html": [
              "<pre style=\"white-space:pre;overflow-x:auto;line-height:normal;font-family:Menlo,'DejaVu Sans Mono',consolas,'Courier New',monospace\"><span style=\"font-weight: bold\"> Trainable params: </span><span style=\"color: #00af00; text-decoration-color: #00af00\">11,169,605</span> (42.61 MB)\n",
              "</pre>\n"
            ]
          },
          "metadata": {}
        },
        {
          "output_type": "display_data",
          "data": {
            "text/plain": [
              "\u001b[1m Non-trainable params: \u001b[0m\u001b[38;5;34m0\u001b[0m (0.00 B)\n"
            ],
            "text/html": [
              "<pre style=\"white-space:pre;overflow-x:auto;line-height:normal;font-family:Menlo,'DejaVu Sans Mono',consolas,'Courier New',monospace\"><span style=\"font-weight: bold\"> Non-trainable params: </span><span style=\"color: #00af00; text-decoration-color: #00af00\">0</span> (0.00 B)\n",
              "</pre>\n"
            ]
          },
          "metadata": {}
        }
      ],
      "source": [
        "# Step 5: Build CNN model\n",
        "model = tf.keras.models.Sequential([\n",
        "    tf.keras.layers.Conv2D(32, (3,3), activation='relu', input_shape=(224, 224, 3)),\n",
        "    tf.keras.layers.MaxPooling2D(2, 2),\n",
        "\n",
        "    tf.keras.layers.Conv2D(64, (3,3), activation='relu'),\n",
        "    tf.keras.layers.MaxPooling2D(2, 2),\n",
        "\n",
        "    tf.keras.layers.Conv2D(128, (3,3), activation='relu'),\n",
        "    tf.keras.layers.MaxPooling2D(2, 2),\n",
        "\n",
        "    tf.keras.layers.Flatten(),\n",
        "    tf.keras.layers.Dense(128, activation='relu'),\n",
        "    tf.keras.layers.Dropout(0.5),\n",
        "    tf.keras.layers.Dense(5, activation='softmax')  # 5 classes for DR\n",
        "])\n",
        "\n",
        "model.compile(optimizer='adam',\n",
        "              loss='categorical_crossentropy',\n",
        "              metrics=['accuracy'])\n",
        "\n",
        "model.summary()"
      ]
    },
    {
      "cell_type": "code",
      "execution_count": null,
      "metadata": {
        "colab": {
          "base_uri": "https://localhost:8080/"
        },
        "id": "LVFp5oqT7T-J",
        "outputId": "24bf94f0-7883-45f9-fe51-09c63c60691d"
      },
      "outputs": [
        {
          "output_type": "stream",
          "name": "stdout",
          "text": [
            "Moderate: 999 images\n",
            "Severe: 193 images\n",
            "No_DR: 1805 images\n",
            "Mild: 370 images\n",
            "Proliferate_DR: 295 images\n"
          ]
        }
      ],
      "source": [
        "import os\n",
        "\n",
        "base_dir = '/content/diabetic_retinopathy/gaussian_filtered_images'\n",
        "for cls in os.listdir(base_dir):\n",
        "    path = os.path.join(base_dir, cls)\n",
        "    if os.path.isdir(path):\n",
        "        print(f\"{cls}: {len(os.listdir(path))} images\")"
      ]
    },
    {
      "cell_type": "code",
      "execution_count": null,
      "metadata": {
        "colab": {
          "base_uri": "https://localhost:8080/"
        },
        "id": "5qW1UcfC7UHN",
        "outputId": "c15aee5f-a90d-4dd9-8fca-6355d744308d"
      },
      "outputs": [
        {
          "output_type": "stream",
          "name": "stdout",
          "text": [
            "Class weights: {0: np.float64(1.9804054054054054), 1: np.float64(0.73275), 2: np.float64(0.4059556786703601), 3: np.float64(2.483898305084746), 4: np.float64(3.7819354838709676)}\n"
          ]
        }
      ],
      "source": [
        "from sklearn.utils.class_weight import compute_class_weight\n",
        "import numpy as np\n",
        "\n",
        "# Get class indices from the generator\n",
        "class_indices = train_generator.class_indices\n",
        "classes = list(class_indices.keys())\n",
        "labels = train_generator.classes\n",
        "\n",
        "# Compute class weights\n",
        "class_weights = compute_class_weight(\n",
        "    class_weight='balanced',\n",
        "    classes=np.unique(labels),\n",
        "    y=labels\n",
        ")\n",
        "class_weights = dict(enumerate(class_weights))\n",
        "print(\"Class weights:\", class_weights)"
      ]
    },
    {
      "cell_type": "code",
      "execution_count": null,
      "metadata": {
        "colab": {
          "background_save": true,
          "base_uri": "https://localhost:8080/"
        },
        "id": "Xh_yThUP7UL5",
        "outputId": "085bcbbc-5021-4805-dabc-93835d98c198"
      },
      "outputs": [
        {
          "name": "stderr",
          "output_type": "stream",
          "text": [
            "/usr/local/lib/python3.11/dist-packages/keras/src/trainers/data_adapters/py_dataset_adapter.py:121: UserWarning: Your `PyDataset` class should call `super().__init__(**kwargs)` in its constructor. `**kwargs` can include `workers`, `use_multiprocessing`, `max_queue_size`. Do not pass these arguments to `fit()`, as they will be ignored.\n",
            "  self._warn_if_super_not_called()\n"
          ]
        },
        {
          "name": "stdout",
          "output_type": "stream",
          "text": [
            "Epoch 1/200\n",
            "\u001b[1m92/92\u001b[0m \u001b[32m━━━━━━━━━━━━━━━━━━━━\u001b[0m\u001b[37m\u001b[0m \u001b[1m59s\u001b[0m 570ms/step - accuracy: 0.3699 - loss: 2.1928 - val_accuracy: 0.4774 - val_loss: 1.1022\n",
            "Epoch 2/200\n",
            "\u001b[1m92/92\u001b[0m \u001b[32m━━━━━━━━━━━━━━━━━━━━\u001b[0m\u001b[37m\u001b[0m \u001b[1m47s\u001b[0m 516ms/step - accuracy: 0.5241 - loss: 1.3741 - val_accuracy: 0.5335 - val_loss: 1.2133\n",
            "Epoch 3/200\n",
            "\u001b[1m92/92\u001b[0m \u001b[32m━━━━━━━━━━━━━━━━━━━━\u001b[0m\u001b[37m\u001b[0m \u001b[1m46s\u001b[0m 496ms/step - accuracy: 0.5184 - loss: 1.3692 - val_accuracy: 0.4829 - val_loss: 1.2464\n",
            "Epoch 4/200\n",
            "\u001b[1m92/92\u001b[0m \u001b[32m━━━━━━━━━━━━━━━━━━━━\u001b[0m\u001b[37m\u001b[0m \u001b[1m46s\u001b[0m 504ms/step - accuracy: 0.5456 - loss: 1.3501 - val_accuracy: 0.5677 - val_loss: 1.0412\n",
            "Epoch 5/200\n",
            "\u001b[1m92/92\u001b[0m \u001b[32m━━━━━━━━━━━━━━━━━━━━\u001b[0m\u001b[37m\u001b[0m \u001b[1m82s\u001b[0m 500ms/step - accuracy: 0.5968 - loss: 1.2992 - val_accuracy: 0.5828 - val_loss: 1.0270\n",
            "Epoch 6/200\n",
            "\u001b[1m92/92\u001b[0m \u001b[32m━━━━━━━━━━━━━━━━━━━━\u001b[0m\u001b[37m\u001b[0m \u001b[1m46s\u001b[0m 497ms/step - accuracy: 0.5944 - loss: 1.2430 - val_accuracy: 0.5732 - val_loss: 1.0367\n",
            "Epoch 7/200\n",
            "\u001b[1m92/92\u001b[0m \u001b[32m━━━━━━━━━━━━━━━━━━━━\u001b[0m\u001b[37m\u001b[0m \u001b[1m47s\u001b[0m 513ms/step - accuracy: 0.6045 - loss: 1.2208 - val_accuracy: 0.5321 - val_loss: 1.0692\n",
            "Epoch 8/200\n",
            "\u001b[1m92/92\u001b[0m \u001b[32m━━━━━━━━━━━━━━━━━━━━\u001b[0m\u001b[37m\u001b[0m \u001b[1m45s\u001b[0m 495ms/step - accuracy: 0.6012 - loss: 1.2797 - val_accuracy: 0.5978 - val_loss: 0.9637\n",
            "Epoch 9/200\n",
            "\u001b[1m92/92\u001b[0m \u001b[32m━━━━━━━━━━━━━━━━━━━━\u001b[0m\u001b[37m\u001b[0m \u001b[1m47s\u001b[0m 512ms/step - accuracy: 0.5853 - loss: 1.2422 - val_accuracy: 0.5937 - val_loss: 1.0007\n",
            "Epoch 10/200\n",
            "\u001b[1m92/92\u001b[0m \u001b[32m━━━━━━━━━━━━━━━━━━━━\u001b[0m\u001b[37m\u001b[0m \u001b[1m46s\u001b[0m 500ms/step - accuracy: 0.6031 - loss: 1.2221 - val_accuracy: 0.5705 - val_loss: 1.0612\n",
            "Epoch 11/200\n",
            "\u001b[1m92/92\u001b[0m \u001b[32m━━━━━━━━━━━━━━━━━━━━\u001b[0m\u001b[37m\u001b[0m \u001b[1m47s\u001b[0m 515ms/step - accuracy: 0.6122 - loss: 1.2411 - val_accuracy: 0.5335 - val_loss: 1.1165\n",
            "Epoch 12/200\n",
            "\u001b[1m92/92\u001b[0m \u001b[32m━━━━━━━━━━━━━━━━━━━━\u001b[0m\u001b[37m\u001b[0m \u001b[1m46s\u001b[0m 505ms/step - accuracy: 0.5396 - loss: 1.3934 - val_accuracy: 0.5992 - val_loss: 0.9857\n",
            "Epoch 13/200\n",
            "\u001b[1m92/92\u001b[0m \u001b[32m━━━━━━━━━━━━━━━━━━━━\u001b[0m\u001b[37m\u001b[0m \u001b[1m46s\u001b[0m 506ms/step - accuracy: 0.5775 - loss: 1.2702 - val_accuracy: 0.5663 - val_loss: 1.0390\n",
            "Epoch 14/200\n",
            "\u001b[1m92/92\u001b[0m \u001b[32m━━━━━━━━━━━━━━━━━━━━\u001b[0m\u001b[37m\u001b[0m \u001b[1m46s\u001b[0m 501ms/step - accuracy: 0.6011 - loss: 1.2461 - val_accuracy: 0.5212 - val_loss: 1.1105\n",
            "Epoch 15/200\n",
            "\u001b[1m92/92\u001b[0m \u001b[32m━━━━━━━━━━━━━━━━━━━━\u001b[0m\u001b[37m\u001b[0m \u001b[1m46s\u001b[0m 499ms/step - accuracy: 0.6056 - loss: 1.2074 - val_accuracy: 0.5746 - val_loss: 1.0115\n",
            "Epoch 16/200\n",
            "\u001b[1m92/92\u001b[0m \u001b[32m━━━━━━━━━━━━━━━━━━━━\u001b[0m\u001b[37m\u001b[0m \u001b[1m47s\u001b[0m 510ms/step - accuracy: 0.6289 - loss: 1.1616 - val_accuracy: 0.5882 - val_loss: 0.9464\n",
            "Epoch 17/200\n",
            "\u001b[1m92/92\u001b[0m \u001b[32m━━━━━━━━━━━━━━━━━━━━\u001b[0m\u001b[37m\u001b[0m \u001b[1m45s\u001b[0m 495ms/step - accuracy: 0.6178 - loss: 1.1997 - val_accuracy: 0.6033 - val_loss: 1.0316\n",
            "Epoch 18/200\n",
            "\u001b[1m92/92\u001b[0m \u001b[32m━━━━━━━━━━━━━━━━━━━━\u001b[0m\u001b[37m\u001b[0m \u001b[1m47s\u001b[0m 512ms/step - accuracy: 0.5958 - loss: 1.2426 - val_accuracy: 0.5910 - val_loss: 1.0083\n",
            "Epoch 19/200\n",
            "\u001b[1m92/92\u001b[0m \u001b[32m━━━━━━━━━━━━━━━━━━━━\u001b[0m\u001b[37m\u001b[0m \u001b[1m45s\u001b[0m 489ms/step - accuracy: 0.5960 - loss: 1.2084 - val_accuracy: 0.5677 - val_loss: 0.9684\n",
            "Epoch 20/200\n",
            "\u001b[1m92/92\u001b[0m \u001b[32m━━━━━━━━━━━━━━━━━━━━\u001b[0m\u001b[37m\u001b[0m \u001b[1m47s\u001b[0m 515ms/step - accuracy: 0.6276 - loss: 1.1592 - val_accuracy: 0.5910 - val_loss: 0.9684\n",
            "Epoch 21/200\n",
            "\u001b[1m92/92\u001b[0m \u001b[32m━━━━━━━━━━━━━━━━━━━━\u001b[0m\u001b[37m\u001b[0m \u001b[1m45s\u001b[0m 489ms/step - accuracy: 0.6106 - loss: 1.1823 - val_accuracy: 0.6156 - val_loss: 0.9655\n",
            "Epoch 22/200\n",
            "\u001b[1m92/92\u001b[0m \u001b[32m━━━━━━━━━━━━━━━━━━━━\u001b[0m\u001b[37m\u001b[0m \u001b[1m46s\u001b[0m 500ms/step - accuracy: 0.5896 - loss: 1.2354 - val_accuracy: 0.6142 - val_loss: 0.9445\n",
            "Epoch 23/200\n",
            "\u001b[1m92/92\u001b[0m \u001b[32m━━━━━━━━━━━━━━━━━━━━\u001b[0m\u001b[37m\u001b[0m \u001b[1m82s\u001b[0m 498ms/step - accuracy: 0.6414 - loss: 1.1186 - val_accuracy: 0.6005 - val_loss: 0.9545\n",
            "Epoch 24/200\n",
            "\u001b[1m92/92\u001b[0m \u001b[32m━━━━━━━━━━━━━━━━━━━━\u001b[0m\u001b[37m\u001b[0m \u001b[1m46s\u001b[0m 496ms/step - accuracy: 0.6111 - loss: 1.1790 - val_accuracy: 0.5951 - val_loss: 0.9887\n",
            "Epoch 25/200\n",
            "\u001b[1m92/92\u001b[0m \u001b[32m━━━━━━━━━━━━━━━━━━━━\u001b[0m\u001b[37m\u001b[0m \u001b[1m47s\u001b[0m 509ms/step - accuracy: 0.6301 - loss: 1.1412 - val_accuracy: 0.6170 - val_loss: 0.9283\n",
            "Epoch 26/200\n",
            "\u001b[1m92/92\u001b[0m \u001b[32m━━━━━━━━━━━━━━━━━━━━\u001b[0m\u001b[37m\u001b[0m \u001b[1m45s\u001b[0m 492ms/step - accuracy: 0.6380 - loss: 1.1375 - val_accuracy: 0.5992 - val_loss: 1.0680\n",
            "Epoch 27/200\n",
            "\u001b[1m92/92\u001b[0m \u001b[32m━━━━━━━━━━━━━━━━━━━━\u001b[0m\u001b[37m\u001b[0m \u001b[1m47s\u001b[0m 512ms/step - accuracy: 0.6436 - loss: 1.1373 - val_accuracy: 0.5882 - val_loss: 1.0321\n",
            "Epoch 28/200\n",
            "\u001b[1m92/92\u001b[0m \u001b[32m━━━━━━━━━━━━━━━━━━━━\u001b[0m\u001b[37m\u001b[0m \u001b[1m47s\u001b[0m 508ms/step - accuracy: 0.6063 - loss: 1.1743 - val_accuracy: 0.5992 - val_loss: 1.0102\n",
            "Epoch 29/200\n",
            "\u001b[1m92/92\u001b[0m \u001b[32m━━━━━━━━━━━━━━━━━━━━\u001b[0m\u001b[37m\u001b[0m \u001b[1m47s\u001b[0m 518ms/step - accuracy: 0.6320 - loss: 1.1495 - val_accuracy: 0.6224 - val_loss: 0.9306\n",
            "Epoch 30/200\n",
            "\u001b[1m92/92\u001b[0m \u001b[32m━━━━━━━━━━━━━━━━━━━━\u001b[0m\u001b[37m\u001b[0m \u001b[1m46s\u001b[0m 497ms/step - accuracy: 0.6385 - loss: 1.1434 - val_accuracy: 0.5910 - val_loss: 0.9801\n",
            "Epoch 31/200\n",
            "\u001b[1m92/92\u001b[0m \u001b[32m━━━━━━━━━━━━━━━━━━━━\u001b[0m\u001b[37m\u001b[0m \u001b[1m48s\u001b[0m 519ms/step - accuracy: 0.6283 - loss: 1.1176 - val_accuracy: 0.6005 - val_loss: 0.9771\n",
            "Epoch 32/200\n",
            "\u001b[1m92/92\u001b[0m \u001b[32m━━━━━━━━━━━━━━━━━━━━\u001b[0m\u001b[37m\u001b[0m \u001b[1m45s\u001b[0m 492ms/step - accuracy: 0.6231 - loss: 1.0797 - val_accuracy: 0.5540 - val_loss: 1.0869\n",
            "Epoch 33/200\n",
            "\u001b[1m92/92\u001b[0m \u001b[32m━━━━━━━━━━━━━━━━━━━━\u001b[0m\u001b[37m\u001b[0m \u001b[1m46s\u001b[0m 505ms/step - accuracy: 0.5982 - loss: 1.1612 - val_accuracy: 0.5923 - val_loss: 0.9780\n",
            "Epoch 34/200\n",
            "\u001b[1m92/92\u001b[0m \u001b[32m━━━━━━━━━━━━━━━━━━━━\u001b[0m\u001b[37m\u001b[0m \u001b[1m46s\u001b[0m 495ms/step - accuracy: 0.6135 - loss: 1.1337 - val_accuracy: 0.6197 - val_loss: 0.9569\n",
            "Epoch 35/200\n",
            "\u001b[1m92/92\u001b[0m \u001b[32m━━━━━━━━━━━━━━━━━━━━\u001b[0m\u001b[37m\u001b[0m \u001b[1m45s\u001b[0m 494ms/step - accuracy: 0.6267 - loss: 1.1649 - val_accuracy: 0.6293 - val_loss: 0.9138\n",
            "Epoch 36/200\n",
            "\u001b[1m92/92\u001b[0m \u001b[32m━━━━━━━━━━━━━━━━━━━━\u001b[0m\u001b[37m\u001b[0m \u001b[1m47s\u001b[0m 513ms/step - accuracy: 0.6459 - loss: 1.1047 - val_accuracy: 0.6347 - val_loss: 0.9317\n",
            "Epoch 37/200\n",
            "\u001b[1m92/92\u001b[0m \u001b[32m━━━━━━━━━━━━━━━━━━━━\u001b[0m\u001b[37m\u001b[0m \u001b[1m45s\u001b[0m 491ms/step - accuracy: 0.6480 - loss: 1.0755 - val_accuracy: 0.6088 - val_loss: 0.9171\n",
            "Epoch 38/200\n",
            "\u001b[1m92/92\u001b[0m \u001b[32m━━━━━━━━━━━━━━━━━━━━\u001b[0m\u001b[37m\u001b[0m \u001b[1m47s\u001b[0m 507ms/step - accuracy: 0.6472 - loss: 1.0981 - val_accuracy: 0.6170 - val_loss: 0.9012\n",
            "Epoch 39/200\n",
            "\u001b[1m92/92\u001b[0m \u001b[32m━━━━━━━━━━━━━━━━━━━━\u001b[0m\u001b[37m\u001b[0m \u001b[1m45s\u001b[0m 490ms/step - accuracy: 0.6474 - loss: 1.0757 - val_accuracy: 0.6389 - val_loss: 0.8986\n",
            "Epoch 40/200\n",
            "\u001b[1m92/92\u001b[0m \u001b[32m━━━━━━━━━━━━━━━━━━━━\u001b[0m\u001b[37m\u001b[0m \u001b[1m47s\u001b[0m 515ms/step - accuracy: 0.6485 - loss: 1.0821 - val_accuracy: 0.6129 - val_loss: 0.9344\n",
            "Epoch 41/200\n",
            "\u001b[1m92/92\u001b[0m \u001b[32m━━━━━━━━━━━━━━━━━━━━\u001b[0m\u001b[37m\u001b[0m \u001b[1m45s\u001b[0m 494ms/step - accuracy: 0.6366 - loss: 1.0839 - val_accuracy: 0.6525 - val_loss: 0.8983\n",
            "Epoch 42/200\n",
            "\u001b[1m92/92\u001b[0m \u001b[32m━━━━━━━━━━━━━━━━━━━━\u001b[0m\u001b[37m\u001b[0m \u001b[1m47s\u001b[0m 517ms/step - accuracy: 0.6608 - loss: 1.0856 - val_accuracy: 0.6375 - val_loss: 0.9066\n",
            "Epoch 43/200\n",
            "\u001b[1m92/92\u001b[0m \u001b[32m━━━━━━━━━━━━━━━━━━━━\u001b[0m\u001b[37m\u001b[0m \u001b[1m45s\u001b[0m 495ms/step - accuracy: 0.6561 - loss: 1.0911 - val_accuracy: 0.6430 - val_loss: 0.8939\n",
            "Epoch 44/200\n",
            "\u001b[1m92/92\u001b[0m \u001b[32m━━━━━━━━━━━━━━━━━━━━\u001b[0m\u001b[37m\u001b[0m \u001b[1m46s\u001b[0m 504ms/step - accuracy: 0.6631 - loss: 1.0611 - val_accuracy: 0.6361 - val_loss: 0.8900\n",
            "Epoch 45/200\n",
            "\u001b[1m92/92\u001b[0m \u001b[32m━━━━━━━━━━━━━━━━━━━━\u001b[0m\u001b[37m\u001b[0m \u001b[1m46s\u001b[0m 497ms/step - accuracy: 0.6398 - loss: 1.0568 - val_accuracy: 0.6443 - val_loss: 0.9219\n",
            "Epoch 46/200\n",
            "\u001b[1m92/92\u001b[0m \u001b[32m━━━━━━━━━━━━━━━━━━━━\u001b[0m\u001b[37m\u001b[0m \u001b[1m45s\u001b[0m 486ms/step - accuracy: 0.6604 - loss: 1.0619 - val_accuracy: 0.6279 - val_loss: 0.9148\n",
            "Epoch 47/200\n",
            "\u001b[1m92/92\u001b[0m \u001b[32m━━━━━━━━━━━━━━━━━━━━\u001b[0m\u001b[37m\u001b[0m \u001b[1m48s\u001b[0m 528ms/step - accuracy: 0.6557 - loss: 1.0787 - val_accuracy: 0.6498 - val_loss: 0.9024\n",
            "Epoch 48/200\n",
            "\u001b[1m92/92\u001b[0m \u001b[32m━━━━━━━━━━━━━━━━━━━━\u001b[0m\u001b[37m\u001b[0m \u001b[1m46s\u001b[0m 503ms/step - accuracy: 0.6477 - loss: 1.1196 - val_accuracy: 0.6471 - val_loss: 0.8840\n",
            "Epoch 49/200\n",
            "\u001b[1m92/92\u001b[0m \u001b[32m━━━━━━━━━━━━━━━━━━━━\u001b[0m\u001b[37m\u001b[0m \u001b[1m47s\u001b[0m 509ms/step - accuracy: 0.6560 - loss: 1.0566 - val_accuracy: 0.6306 - val_loss: 0.8667\n",
            "Epoch 50/200\n",
            "\u001b[1m92/92\u001b[0m \u001b[32m━━━━━━━━━━━━━━━━━━━━\u001b[0m\u001b[37m\u001b[0m \u001b[1m46s\u001b[0m 496ms/step - accuracy: 0.6498 - loss: 1.0720 - val_accuracy: 0.6375 - val_loss: 0.8720\n",
            "Epoch 51/200\n",
            "\u001b[1m92/92\u001b[0m \u001b[32m━━━━━━━━━━━━━━━━━━━━\u001b[0m\u001b[37m\u001b[0m \u001b[1m46s\u001b[0m 506ms/step - accuracy: 0.6771 - loss: 1.0276 - val_accuracy: 0.6279 - val_loss: 0.9284\n",
            "Epoch 52/200\n",
            "\u001b[1m92/92\u001b[0m \u001b[32m━━━━━━━━━━━━━━━━━━━━\u001b[0m\u001b[37m\u001b[0m \u001b[1m45s\u001b[0m 493ms/step - accuracy: 0.6626 - loss: 1.0327 - val_accuracy: 0.6744 - val_loss: 0.8147\n",
            "Epoch 53/200\n",
            "\u001b[1m92/92\u001b[0m \u001b[32m━━━━━━━━━━━━━━━━━━━━\u001b[0m\u001b[37m\u001b[0m \u001b[1m83s\u001b[0m 509ms/step - accuracy: 0.7035 - loss: 0.9702 - val_accuracy: 0.6484 - val_loss: 0.8423\n",
            "Epoch 54/200\n",
            "\u001b[1m92/92\u001b[0m \u001b[32m━━━━━━━━━━━━━━━━━━━━\u001b[0m\u001b[37m\u001b[0m \u001b[1m45s\u001b[0m 491ms/step - accuracy: 0.6617 - loss: 1.0547 - val_accuracy: 0.6484 - val_loss: 0.8704\n",
            "Epoch 55/200\n",
            "\u001b[1m92/92\u001b[0m \u001b[32m━━━━━━━━━━━━━━━━━━━━\u001b[0m\u001b[37m\u001b[0m \u001b[1m45s\u001b[0m 490ms/step - accuracy: 0.6728 - loss: 1.0232 - val_accuracy: 0.6347 - val_loss: 0.9178\n",
            "Epoch 56/200\n",
            "\u001b[1m92/92\u001b[0m \u001b[32m━━━━━━━━━━━━━━━━━━━━\u001b[0m\u001b[37m\u001b[0m \u001b[1m83s\u001b[0m 494ms/step - accuracy: 0.6517 - loss: 1.0548 - val_accuracy: 0.6731 - val_loss: 0.8211\n",
            "Epoch 57/200\n",
            "\u001b[1m92/92\u001b[0m \u001b[32m━━━━━━━━━━━━━━━━━━━━\u001b[0m\u001b[37m\u001b[0m \u001b[1m82s\u001b[0m 492ms/step - accuracy: 0.6937 - loss: 0.9413 - val_accuracy: 0.6320 - val_loss: 0.8902\n",
            "Epoch 58/200\n",
            "\u001b[1m92/92\u001b[0m \u001b[32m━━━━━━━━━━━━━━━━━━━━\u001b[0m\u001b[37m\u001b[0m \u001b[1m46s\u001b[0m 503ms/step - accuracy: 0.6789 - loss: 0.9602 - val_accuracy: 0.6375 - val_loss: 0.8426\n",
            "Epoch 59/200\n",
            "\u001b[1m92/92\u001b[0m \u001b[32m━━━━━━━━━━━━━━━━━━━━\u001b[0m\u001b[37m\u001b[0m \u001b[1m46s\u001b[0m 503ms/step - accuracy: 0.6724 - loss: 0.9984 - val_accuracy: 0.6525 - val_loss: 0.8407\n",
            "Epoch 60/200\n",
            "\u001b[1m92/92\u001b[0m \u001b[32m━━━━━━━━━━━━━━━━━━━━\u001b[0m\u001b[37m\u001b[0m \u001b[1m48s\u001b[0m 527ms/step - accuracy: 0.6773 - loss: 0.9927 - val_accuracy: 0.6648 - val_loss: 0.8395\n",
            "Epoch 61/200\n",
            "\u001b[1m92/92\u001b[0m \u001b[32m━━━━━━━━━━━━━━━━━━━━\u001b[0m\u001b[37m\u001b[0m \u001b[1m46s\u001b[0m 496ms/step - accuracy: 0.6767 - loss: 0.9612 - val_accuracy: 0.6347 - val_loss: 0.8638\n",
            "Epoch 62/200\n",
            "\u001b[1m92/92\u001b[0m \u001b[32m━━━━━━━━━━━━━━━━━━━━\u001b[0m\u001b[37m\u001b[0m \u001b[1m48s\u001b[0m 520ms/step - accuracy: 0.6756 - loss: 0.9984 - val_accuracy: 0.6211 - val_loss: 0.9836\n",
            "Epoch 63/200\n",
            "\u001b[1m92/92\u001b[0m \u001b[32m━━━━━━━━━━━━━━━━━━━━\u001b[0m\u001b[37m\u001b[0m \u001b[1m46s\u001b[0m 505ms/step - accuracy: 0.6746 - loss: 0.9762 - val_accuracy: 0.6252 - val_loss: 0.8600\n",
            "Epoch 64/200\n",
            "\u001b[1m92/92\u001b[0m \u001b[32m━━━━━━━━━━━━━━━━━━━━\u001b[0m\u001b[37m\u001b[0m \u001b[1m48s\u001b[0m 520ms/step - accuracy: 0.6773 - loss: 0.9861 - val_accuracy: 0.6731 - val_loss: 0.8422\n",
            "Epoch 65/200\n",
            "\u001b[1m92/92\u001b[0m \u001b[32m━━━━━━━━━━━━━━━━━━━━\u001b[0m\u001b[37m\u001b[0m \u001b[1m46s\u001b[0m 497ms/step - accuracy: 0.6771 - loss: 1.0340 - val_accuracy: 0.6908 - val_loss: 0.8126\n",
            "Epoch 66/200\n",
            "\u001b[1m92/92\u001b[0m \u001b[32m━━━━━━━━━━━━━━━━━━━━\u001b[0m\u001b[37m\u001b[0m \u001b[1m46s\u001b[0m 497ms/step - accuracy: 0.6862 - loss: 0.9497 - val_accuracy: 0.6361 - val_loss: 0.8940\n",
            "Epoch 67/200\n",
            "\u001b[1m92/92\u001b[0m \u001b[32m━━━━━━━━━━━━━━━━━━━━\u001b[0m\u001b[37m\u001b[0m \u001b[1m82s\u001b[0m 499ms/step - accuracy: 0.6814 - loss: 1.0137 - val_accuracy: 0.6566 - val_loss: 0.8571\n",
            "Epoch 68/200\n",
            "\u001b[1m92/92\u001b[0m \u001b[32m━━━━━━━━━━━━━━━━━━━━\u001b[0m\u001b[37m\u001b[0m \u001b[1m46s\u001b[0m 498ms/step - accuracy: 0.7036 - loss: 0.9339 - val_accuracy: 0.6594 - val_loss: 0.8244\n",
            "Epoch 69/200\n",
            "\u001b[1m92/92\u001b[0m \u001b[32m━━━━━━━━━━━━━━━━━━━━\u001b[0m\u001b[37m\u001b[0m \u001b[1m46s\u001b[0m 506ms/step - accuracy: 0.6918 - loss: 0.9752 - val_accuracy: 0.6744 - val_loss: 0.8003\n",
            "Epoch 70/200\n",
            "\u001b[1m92/92\u001b[0m \u001b[32m━━━━━━━━━━━━━━━━━━━━\u001b[0m\u001b[37m\u001b[0m \u001b[1m45s\u001b[0m 492ms/step - accuracy: 0.6988 - loss: 0.9582 - val_accuracy: 0.6840 - val_loss: 0.7961\n",
            "Epoch 71/200\n",
            "\u001b[1m92/92\u001b[0m \u001b[32m━━━━━━━━━━━━━━━━━━━━\u001b[0m\u001b[37m\u001b[0m \u001b[1m47s\u001b[0m 507ms/step - accuracy: 0.7139 - loss: 0.9248 - val_accuracy: 0.6580 - val_loss: 0.8525\n",
            "Epoch 72/200\n",
            "\u001b[1m92/92\u001b[0m \u001b[32m━━━━━━━━━━━━━━━━━━━━\u001b[0m\u001b[37m\u001b[0m \u001b[1m81s\u001b[0m 498ms/step - accuracy: 0.7248 - loss: 0.9133 - val_accuracy: 0.6484 - val_loss: 0.8620\n",
            "Epoch 73/200\n",
            "\u001b[1m92/92\u001b[0m \u001b[32m━━━━━━━━━━━━━━━━━━━━\u001b[0m\u001b[37m\u001b[0m \u001b[1m46s\u001b[0m 501ms/step - accuracy: 0.6812 - loss: 0.9638 - val_accuracy: 0.6525 - val_loss: 0.8572\n",
            "Epoch 74/200\n",
            "\u001b[1m92/92\u001b[0m \u001b[32m━━━━━━━━━━━━━━━━━━━━\u001b[0m\u001b[37m\u001b[0m \u001b[1m82s\u001b[0m 502ms/step - accuracy: 0.7059 - loss: 0.9340 - val_accuracy: 0.6772 - val_loss: 0.8306\n",
            "Epoch 75/200\n",
            "\u001b[1m92/92\u001b[0m \u001b[32m━━━━━━━━━━━━━━━━━━━━\u001b[0m\u001b[37m\u001b[0m \u001b[1m46s\u001b[0m 496ms/step - accuracy: 0.7089 - loss: 0.9050 - val_accuracy: 0.6744 - val_loss: 0.8100\n",
            "Epoch 76/200\n",
            "\u001b[1m92/92\u001b[0m \u001b[32m━━━━━━━━━━━━━━━━━━━━\u001b[0m\u001b[37m\u001b[0m \u001b[1m46s\u001b[0m 506ms/step - accuracy: 0.6977 - loss: 0.9442 - val_accuracy: 0.6744 - val_loss: 0.7970\n",
            "Epoch 77/200\n",
            "\u001b[1m92/92\u001b[0m \u001b[32m━━━━━━━━━━━━━━━━━━━━\u001b[0m\u001b[37m\u001b[0m \u001b[1m45s\u001b[0m 493ms/step - accuracy: 0.7182 - loss: 0.8813 - val_accuracy: 0.6731 - val_loss: 0.8446\n",
            "Epoch 78/200\n",
            "\u001b[1m92/92\u001b[0m \u001b[32m━━━━━━━━━━━━━━━━━━━━\u001b[0m\u001b[37m\u001b[0m \u001b[1m47s\u001b[0m 508ms/step - accuracy: 0.7024 - loss: 0.9314 - val_accuracy: 0.6758 - val_loss: 0.8292\n",
            "Epoch 79/200\n",
            "\u001b[1m92/92\u001b[0m \u001b[32m━━━━━━━━━━━━━━━━━━━━\u001b[0m\u001b[37m\u001b[0m \u001b[1m46s\u001b[0m 497ms/step - accuracy: 0.7180 - loss: 0.9067 - val_accuracy: 0.6648 - val_loss: 0.8292\n",
            "Epoch 80/200\n",
            "\u001b[1m92/92\u001b[0m \u001b[32m━━━━━━━━━━━━━━━━━━━━\u001b[0m\u001b[37m\u001b[0m \u001b[1m47s\u001b[0m 509ms/step - accuracy: 0.6907 - loss: 0.9489 - val_accuracy: 0.6662 - val_loss: 0.8289\n",
            "Epoch 81/200\n",
            "\u001b[1m92/92\u001b[0m \u001b[32m━━━━━━━━━━━━━━━━━━━━\u001b[0m\u001b[37m\u001b[0m \u001b[1m46s\u001b[0m 495ms/step - accuracy: 0.7061 - loss: 0.8875 - val_accuracy: 0.6471 - val_loss: 0.8489\n",
            "Epoch 82/200\n",
            "\u001b[1m92/92\u001b[0m \u001b[32m━━━━━━━━━━━━━━━━━━━━\u001b[0m\u001b[37m\u001b[0m \u001b[1m45s\u001b[0m 490ms/step - accuracy: 0.6990 - loss: 0.8912 - val_accuracy: 0.6840 - val_loss: 0.7835\n",
            "Epoch 83/200\n",
            "\u001b[1m92/92\u001b[0m \u001b[32m━━━━━━━━━━━━━━━━━━━━\u001b[0m\u001b[37m\u001b[0m \u001b[1m46s\u001b[0m 505ms/step - accuracy: 0.7227 - loss: 0.8467 - val_accuracy: 0.6689 - val_loss: 0.8311\n",
            "Epoch 84/200\n",
            "\u001b[1m92/92\u001b[0m \u001b[32m━━━━━━━━━━━━━━━━━━━━\u001b[0m\u001b[37m\u001b[0m \u001b[1m45s\u001b[0m 494ms/step - accuracy: 0.7241 - loss: 0.8677 - val_accuracy: 0.6895 - val_loss: 0.8003\n",
            "Epoch 85/200\n",
            "\u001b[1m92/92\u001b[0m \u001b[32m━━━━━━━━━━━━━━━━━━━━\u001b[0m\u001b[37m\u001b[0m \u001b[1m47s\u001b[0m 513ms/step - accuracy: 0.7127 - loss: 0.8552 - val_accuracy: 0.7018 - val_loss: 0.7667\n",
            "Epoch 86/200\n",
            "\u001b[1m92/92\u001b[0m \u001b[32m━━━━━━━━━━━━━━━━━━━━\u001b[0m\u001b[37m\u001b[0m \u001b[1m45s\u001b[0m 494ms/step - accuracy: 0.7272 - loss: 0.8493 - val_accuracy: 0.6799 - val_loss: 0.7900\n",
            "Epoch 87/200\n",
            "\u001b[1m92/92\u001b[0m \u001b[32m━━━━━━━━━━━━━━━━━━━━\u001b[0m\u001b[37m\u001b[0m \u001b[1m48s\u001b[0m 518ms/step - accuracy: 0.7192 - loss: 0.8785 - val_accuracy: 0.6689 - val_loss: 0.7998\n",
            "Epoch 88/200\n",
            "\u001b[1m92/92\u001b[0m \u001b[32m━━━━━━━━━━━━━━━━━━━━\u001b[0m\u001b[37m\u001b[0m \u001b[1m45s\u001b[0m 492ms/step - accuracy: 0.7171 - loss: 0.8876 - val_accuracy: 0.6471 - val_loss: 0.8518\n",
            "Epoch 89/200\n",
            "\u001b[1m92/92\u001b[0m \u001b[32m━━━━━━━━━━━━━━━━━━━━\u001b[0m\u001b[37m\u001b[0m \u001b[1m48s\u001b[0m 519ms/step - accuracy: 0.6943 - loss: 0.9144 - val_accuracy: 0.7045 - val_loss: 0.7867\n",
            "Epoch 90/200\n",
            "\u001b[1m92/92\u001b[0m \u001b[32m━━━━━━━━━━━━━━━━━━━━\u001b[0m\u001b[37m\u001b[0m \u001b[1m45s\u001b[0m 492ms/step - accuracy: 0.7101 - loss: 0.8747 - val_accuracy: 0.7018 - val_loss: 0.7648\n",
            "Epoch 91/200\n",
            "\u001b[1m92/92\u001b[0m \u001b[32m━━━━━━━━━━━━━━━━━━━━\u001b[0m\u001b[37m\u001b[0m \u001b[1m46s\u001b[0m 502ms/step - accuracy: 0.7393 - loss: 0.7869 - val_accuracy: 0.6908 - val_loss: 0.8112\n",
            "Epoch 92/200\n",
            "\u001b[1m92/92\u001b[0m \u001b[32m━━━━━━━━━━━━━━━━━━━━\u001b[0m\u001b[37m\u001b[0m \u001b[1m82s\u001b[0m 501ms/step - accuracy: 0.7296 - loss: 0.8944 - val_accuracy: 0.7031 - val_loss: 0.7830\n",
            "Epoch 93/200\n",
            "\u001b[1m92/92\u001b[0m \u001b[32m━━━━━━━━━━━━━━━━━━━━\u001b[0m\u001b[37m\u001b[0m \u001b[1m45s\u001b[0m 491ms/step - accuracy: 0.7232 - loss: 0.8510 - val_accuracy: 0.6758 - val_loss: 0.8503\n",
            "Epoch 94/200\n",
            "\u001b[1m92/92\u001b[0m \u001b[32m━━━━━━━━━━━━━━━━━━━━\u001b[0m\u001b[37m\u001b[0m \u001b[1m47s\u001b[0m 508ms/step - accuracy: 0.7287 - loss: 0.8399 - val_accuracy: 0.6949 - val_loss: 0.7819\n",
            "Epoch 95/200\n",
            "\u001b[1m92/92\u001b[0m \u001b[32m━━━━━━━━━━━━━━━━━━━━\u001b[0m\u001b[37m\u001b[0m \u001b[1m45s\u001b[0m 495ms/step - accuracy: 0.7491 - loss: 0.8068 - val_accuracy: 0.6430 - val_loss: 0.8556\n",
            "Epoch 96/200\n",
            "\u001b[1m92/92\u001b[0m \u001b[32m━━━━━━━━━━━━━━━━━━━━\u001b[0m\u001b[37m\u001b[0m \u001b[1m47s\u001b[0m 508ms/step - accuracy: 0.7108 - loss: 0.8811 - val_accuracy: 0.7045 - val_loss: 0.7774\n",
            "Epoch 97/200\n",
            "\u001b[1m92/92\u001b[0m \u001b[32m━━━━━━━━━━━━━━━━━━━━\u001b[0m\u001b[37m\u001b[0m \u001b[1m45s\u001b[0m 493ms/step - accuracy: 0.7369 - loss: 0.7775 - val_accuracy: 0.6689 - val_loss: 0.8236\n",
            "Epoch 98/200\n",
            "\u001b[1m92/92\u001b[0m \u001b[32m━━━━━━━━━━━━━━━━━━━━\u001b[0m\u001b[37m\u001b[0m \u001b[1m46s\u001b[0m 498ms/step - accuracy: 0.7295 - loss: 0.8345 - val_accuracy: 0.6772 - val_loss: 0.8006\n",
            "Epoch 99/200\n",
            "\u001b[1m92/92\u001b[0m \u001b[32m━━━━━━━━━━━━━━━━━━━━\u001b[0m\u001b[37m\u001b[0m \u001b[1m47s\u001b[0m 508ms/step - accuracy: 0.7327 - loss: 0.8101 - val_accuracy: 0.7059 - val_loss: 0.7831\n",
            "Epoch 100/200\n",
            "\u001b[1m92/92\u001b[0m \u001b[32m━━━━━━━━━━━━━━━━━━━━\u001b[0m\u001b[37m\u001b[0m \u001b[1m48s\u001b[0m 522ms/step - accuracy: 0.7227 - loss: 0.8243 - val_accuracy: 0.6963 - val_loss: 0.7613\n",
            "Epoch 101/200\n",
            "\u001b[1m92/92\u001b[0m \u001b[32m━━━━━━━━━━━━━━━━━━━━\u001b[0m\u001b[37m\u001b[0m \u001b[1m46s\u001b[0m 497ms/step - accuracy: 0.7303 - loss: 0.7957 - val_accuracy: 0.6881 - val_loss: 0.8102\n",
            "Epoch 102/200\n",
            "\u001b[1m92/92\u001b[0m \u001b[32m━━━━━━━━━━━━━━━━━━━━\u001b[0m\u001b[37m\u001b[0m \u001b[1m48s\u001b[0m 518ms/step - accuracy: 0.7295 - loss: 0.8219 - val_accuracy: 0.6881 - val_loss: 0.8017\n",
            "Epoch 103/200\n",
            "\u001b[1m92/92\u001b[0m \u001b[32m━━━━━━━━━━━━━━━━━━━━\u001b[0m\u001b[37m\u001b[0m \u001b[1m81s\u001b[0m 500ms/step - accuracy: 0.7467 - loss: 0.7925 - val_accuracy: 0.7332 - val_loss: 0.7545\n",
            "Epoch 104/200\n",
            "\u001b[1m92/92\u001b[0m \u001b[32m━━━━━━━━━━━━━━━━━━━━\u001b[0m\u001b[37m\u001b[0m \u001b[1m45s\u001b[0m 494ms/step - accuracy: 0.7529 - loss: 0.7692 - val_accuracy: 0.6908 - val_loss: 0.7909\n",
            "Epoch 105/200\n",
            "\u001b[1m92/92\u001b[0m \u001b[32m━━━━━━━━━━━━━━━━━━━━\u001b[0m\u001b[37m\u001b[0m \u001b[1m47s\u001b[0m 513ms/step - accuracy: 0.7302 - loss: 0.7847 - val_accuracy: 0.6840 - val_loss: 0.8222\n",
            "Epoch 106/200\n",
            "\u001b[1m92/92\u001b[0m \u001b[32m━━━━━━━━━━━━━━━━━━━━\u001b[0m\u001b[37m\u001b[0m \u001b[1m45s\u001b[0m 491ms/step - accuracy: 0.7611 - loss: 0.7434 - val_accuracy: 0.6813 - val_loss: 0.8191\n",
            "Epoch 107/200\n",
            "\u001b[1m92/92\u001b[0m \u001b[32m━━━━━━━━━━━━━━━━━━━━\u001b[0m\u001b[37m\u001b[0m \u001b[1m47s\u001b[0m 507ms/step - accuracy: 0.7284 - loss: 0.7755 - val_accuracy: 0.6895 - val_loss: 0.8151\n",
            "Epoch 108/200\n",
            "\u001b[1m92/92\u001b[0m \u001b[32m━━━━━━━━━━━━━━━━━━━━\u001b[0m\u001b[37m\u001b[0m \u001b[1m45s\u001b[0m 495ms/step - accuracy: 0.7463 - loss: 0.7949 - val_accuracy: 0.6826 - val_loss: 0.7871\n",
            "Epoch 109/200\n",
            "\u001b[1m92/92\u001b[0m \u001b[32m━━━━━━━━━━━━━━━━━━━━\u001b[0m\u001b[37m\u001b[0m \u001b[1m48s\u001b[0m 520ms/step - accuracy: 0.7583 - loss: 0.7732 - val_accuracy: 0.6881 - val_loss: 0.7923\n",
            "Epoch 110/200\n",
            "\u001b[1m92/92\u001b[0m \u001b[32m━━━━━━━━━━━━━━━━━━━━\u001b[0m\u001b[37m\u001b[0m \u001b[1m45s\u001b[0m 494ms/step - accuracy: 0.7377 - loss: 0.7277 - val_accuracy: 0.6197 - val_loss: 1.0020\n",
            "Epoch 111/200\n",
            "\u001b[1m92/92\u001b[0m \u001b[32m━━━━━━━━━━━━━━━━━━━━\u001b[0m\u001b[37m\u001b[0m \u001b[1m46s\u001b[0m 505ms/step - accuracy: 0.7044 - loss: 0.8377 - val_accuracy: 0.7059 - val_loss: 0.7773\n",
            "Epoch 112/200\n",
            "\u001b[1m92/92\u001b[0m \u001b[32m━━━━━━━━━━━━━━━━━━━━\u001b[0m\u001b[37m\u001b[0m \u001b[1m46s\u001b[0m 497ms/step - accuracy: 0.7306 - loss: 0.7731 - val_accuracy: 0.6895 - val_loss: 0.8034\n",
            "Epoch 113/200\n",
            "\u001b[1m92/92\u001b[0m \u001b[32m━━━━━━━━━━━━━━━━━━━━\u001b[0m\u001b[37m\u001b[0m \u001b[1m45s\u001b[0m 492ms/step - accuracy: 0.7448 - loss: 0.7839 - val_accuracy: 0.6908 - val_loss: 0.8253\n",
            "Epoch 114/200\n",
            "\u001b[1m92/92\u001b[0m \u001b[32m━━━━━━━━━━━━━━━━━━━━\u001b[0m\u001b[37m\u001b[0m \u001b[1m47s\u001b[0m 511ms/step - accuracy: 0.7477 - loss: 0.7276 - val_accuracy: 0.6183 - val_loss: 0.9336\n",
            "Epoch 115/200\n",
            "\u001b[1m92/92\u001b[0m \u001b[32m━━━━━━━━━━━━━━━━━━━━\u001b[0m\u001b[37m\u001b[0m \u001b[1m45s\u001b[0m 494ms/step - accuracy: 0.7089 - loss: 0.7977 - val_accuracy: 0.6826 - val_loss: 0.8404\n",
            "Epoch 116/200\n",
            "\u001b[1m92/92\u001b[0m \u001b[32m━━━━━━━━━━━━━━━━━━━━\u001b[0m\u001b[37m\u001b[0m \u001b[1m47s\u001b[0m 512ms/step - accuracy: 0.7551 - loss: 0.7032 - val_accuracy: 0.7059 - val_loss: 0.7809\n",
            "Epoch 117/200\n",
            "\u001b[1m92/92\u001b[0m \u001b[32m━━━━━━━━━━━━━━━━━━━━\u001b[0m\u001b[37m\u001b[0m \u001b[1m46s\u001b[0m 499ms/step - accuracy: 0.7557 - loss: 0.7587 - val_accuracy: 0.6553 - val_loss: 0.8627\n",
            "Epoch 118/200\n",
            "\u001b[1m92/92\u001b[0m \u001b[32m━━━━━━━━━━━━━━━━━━━━\u001b[0m\u001b[37m\u001b[0m \u001b[1m47s\u001b[0m 514ms/step - accuracy: 0.7506 - loss: 0.7514 - val_accuracy: 0.6922 - val_loss: 0.8093\n",
            "Epoch 119/200\n",
            "\u001b[1m92/92\u001b[0m \u001b[32m━━━━━━━━━━━━━━━━━━━━\u001b[0m\u001b[37m\u001b[0m \u001b[1m46s\u001b[0m 497ms/step - accuracy: 0.7426 - loss: 0.7692 - val_accuracy: 0.6990 - val_loss: 0.8544\n",
            "Epoch 120/200\n",
            "\u001b[1m92/92\u001b[0m \u001b[32m━━━━━━━━━━━━━━━━━━━━\u001b[0m\u001b[37m\u001b[0m \u001b[1m84s\u001b[0m 515ms/step - accuracy: 0.7497 - loss: 0.7530 - val_accuracy: 0.6936 - val_loss: 0.7709\n",
            "Epoch 121/200\n",
            "\u001b[1m92/92\u001b[0m \u001b[32m━━━━━━━━━━━━━━━━━━━━\u001b[0m\u001b[37m\u001b[0m \u001b[1m46s\u001b[0m 500ms/step - accuracy: 0.7561 - loss: 0.7478 - val_accuracy: 0.7278 - val_loss: 0.7436\n",
            "Epoch 122/200\n",
            "\u001b[1m92/92\u001b[0m \u001b[32m━━━━━━━━━━━━━━━━━━━━\u001b[0m\u001b[37m\u001b[0m \u001b[1m48s\u001b[0m 519ms/step - accuracy: 0.7536 - loss: 0.7068 - val_accuracy: 0.6936 - val_loss: 0.8404\n",
            "Epoch 123/200\n",
            "\u001b[1m92/92\u001b[0m \u001b[32m━━━━━━━━━━━━━━━━━━━━\u001b[0m\u001b[37m\u001b[0m \u001b[1m46s\u001b[0m 503ms/step - accuracy: 0.7610 - loss: 0.7405 - val_accuracy: 0.7100 - val_loss: 0.7906\n",
            "Epoch 124/200\n",
            "\u001b[1m92/92\u001b[0m \u001b[32m━━━━━━━━━━━━━━━━━━━━\u001b[0m\u001b[37m\u001b[0m \u001b[1m48s\u001b[0m 518ms/step - accuracy: 0.7435 - loss: 0.7852 - val_accuracy: 0.7264 - val_loss: 0.7971\n",
            "Epoch 125/200\n",
            "\u001b[1m92/92\u001b[0m \u001b[32m━━━━━━━━━━━━━━━━━━━━\u001b[0m\u001b[37m\u001b[0m \u001b[1m46s\u001b[0m 505ms/step - accuracy: 0.7666 - loss: 0.6922 - val_accuracy: 0.7100 - val_loss: 0.7383\n",
            "Epoch 126/200\n",
            "\u001b[1m92/92\u001b[0m \u001b[32m━━━━━━━━━━━━━━━━━━━━\u001b[0m\u001b[37m\u001b[0m \u001b[1m82s\u001b[0m 506ms/step - accuracy: 0.7484 - loss: 0.7182 - val_accuracy: 0.6936 - val_loss: 0.8120\n",
            "Epoch 127/200\n",
            "\u001b[1m92/92\u001b[0m \u001b[32m━━━━━━━━━━━━━━━━━━━━\u001b[0m\u001b[37m\u001b[0m \u001b[1m45s\u001b[0m 490ms/step - accuracy: 0.7709 - loss: 0.6817 - val_accuracy: 0.7073 - val_loss: 0.7851\n",
            "Epoch 128/200\n",
            "\u001b[1m92/92\u001b[0m \u001b[32m━━━━━━━━━━━━━━━━━━━━\u001b[0m\u001b[37m\u001b[0m \u001b[1m48s\u001b[0m 518ms/step - accuracy: 0.7655 - loss: 0.6848 - val_accuracy: 0.6594 - val_loss: 0.9070\n",
            "Epoch 129/200\n",
            "\u001b[1m92/92\u001b[0m \u001b[32m━━━━━━━━━━━━━━━━━━━━\u001b[0m\u001b[37m\u001b[0m \u001b[1m45s\u001b[0m 493ms/step - accuracy: 0.7433 - loss: 0.7096 - val_accuracy: 0.7100 - val_loss: 0.7673\n",
            "Epoch 130/200\n",
            "\u001b[1m92/92\u001b[0m \u001b[32m━━━━━━━━━━━━━━━━━━━━\u001b[0m\u001b[37m\u001b[0m \u001b[1m46s\u001b[0m 496ms/step - accuracy: 0.7676 - loss: 0.6773 - val_accuracy: 0.7018 - val_loss: 0.7890\n",
            "Epoch 131/200\n",
            "\u001b[1m92/92\u001b[0m \u001b[32m━━━━━━━━━━━━━━━━━━━━\u001b[0m\u001b[37m\u001b[0m \u001b[1m82s\u001b[0m 493ms/step - accuracy: 0.7859 - loss: 0.6871 - val_accuracy: 0.6621 - val_loss: 0.9070\n",
            "Epoch 132/200\n",
            "\u001b[1m92/92\u001b[0m \u001b[32m━━━━━━━━━━━━━━━━━━━━\u001b[0m\u001b[37m\u001b[0m \u001b[1m45s\u001b[0m 491ms/step - accuracy: 0.7576 - loss: 0.6804 - val_accuracy: 0.7031 - val_loss: 0.8801\n",
            "Epoch 133/200\n",
            "\u001b[1m92/92\u001b[0m \u001b[32m━━━━━━━━━━━━━━━━━━━━\u001b[0m\u001b[37m\u001b[0m \u001b[1m47s\u001b[0m 507ms/step - accuracy: 0.7432 - loss: 0.7247 - val_accuracy: 0.7031 - val_loss: 0.8228\n",
            "Epoch 134/200\n",
            "\u001b[1m92/92\u001b[0m \u001b[32m━━━━━━━━━━━━━━━━━━━━\u001b[0m\u001b[37m\u001b[0m \u001b[1m47s\u001b[0m 514ms/step - accuracy: 0.7575 - loss: 0.7480 - val_accuracy: 0.7004 - val_loss: 0.8239\n",
            "Epoch 135/200\n",
            "\u001b[1m92/92\u001b[0m \u001b[32m━━━━━━━━━━━━━━━━━━━━\u001b[0m\u001b[37m\u001b[0m \u001b[1m46s\u001b[0m 505ms/step - accuracy: 0.7666 - loss: 0.6747 - val_accuracy: 0.6977 - val_loss: 0.8415\n",
            "Epoch 136/200\n",
            "\u001b[1m92/92\u001b[0m \u001b[32m━━━━━━━━━━━━━━━━━━━━\u001b[0m\u001b[37m\u001b[0m \u001b[1m45s\u001b[0m 490ms/step - accuracy: 0.7732 - loss: 0.6606 - val_accuracy: 0.7031 - val_loss: 0.7990\n",
            "Epoch 137/200\n",
            "\u001b[1m92/92\u001b[0m \u001b[32m━━━━━━━━━━━━━━━━━━━━\u001b[0m\u001b[37m\u001b[0m \u001b[1m46s\u001b[0m 506ms/step - accuracy: 0.7784 - loss: 0.6635 - val_accuracy: 0.7264 - val_loss: 0.7730\n",
            "Epoch 138/200\n",
            "\u001b[1m92/92\u001b[0m \u001b[32m━━━━━━━━━━━━━━━━━━━━\u001b[0m\u001b[37m\u001b[0m \u001b[1m45s\u001b[0m 491ms/step - accuracy: 0.7748 - loss: 0.6742 - val_accuracy: 0.6813 - val_loss: 0.8499\n",
            "Epoch 139/200\n",
            "\u001b[1m92/92\u001b[0m \u001b[32m━━━━━━━━━━━━━━━━━━━━\u001b[0m\u001b[37m\u001b[0m \u001b[1m83s\u001b[0m 510ms/step - accuracy: 0.7550 - loss: 0.6842 - val_accuracy: 0.7031 - val_loss: 0.8056\n",
            "Epoch 140/200\n",
            "\u001b[1m92/92\u001b[0m \u001b[32m━━━━━━━━━━━━━━━━━━━━\u001b[0m\u001b[37m\u001b[0m \u001b[1m46s\u001b[0m 496ms/step - accuracy: 0.7555 - loss: 0.7377 - val_accuracy: 0.7100 - val_loss: 0.8020\n",
            "Epoch 141/200\n",
            "\u001b[1m92/92\u001b[0m \u001b[32m━━━━━━━━━━━━━━━━━━━━\u001b[0m\u001b[37m\u001b[0m \u001b[1m48s\u001b[0m 521ms/step - accuracy: 0.7773 - loss: 0.6678 - val_accuracy: 0.7168 - val_loss: 0.7892\n",
            "Epoch 142/200\n",
            "\u001b[1m92/92\u001b[0m \u001b[32m━━━━━━━━━━━━━━━━━━━━\u001b[0m\u001b[37m\u001b[0m \u001b[1m45s\u001b[0m 493ms/step - accuracy: 0.7792 - loss: 0.6653 - val_accuracy: 0.7291 - val_loss: 0.8211\n",
            "Epoch 143/200\n",
            "\u001b[1m92/92\u001b[0m \u001b[32m━━━━━━━━━━━━━━━━━━━━\u001b[0m\u001b[37m\u001b[0m \u001b[1m48s\u001b[0m 520ms/step - accuracy: 0.7973 - loss: 0.5845 - val_accuracy: 0.6990 - val_loss: 0.8507\n",
            "Epoch 144/200\n",
            "\u001b[1m92/92\u001b[0m \u001b[32m━━━━━━━━━━━━━━━━━━━━\u001b[0m\u001b[37m\u001b[0m \u001b[1m45s\u001b[0m 492ms/step - accuracy: 0.7592 - loss: 0.6925 - val_accuracy: 0.7100 - val_loss: 0.8161\n",
            "Epoch 145/200\n",
            "\u001b[1m92/92\u001b[0m \u001b[32m━━━━━━━━━━━━━━━━━━━━\u001b[0m\u001b[37m\u001b[0m \u001b[1m46s\u001b[0m 501ms/step - accuracy: 0.7579 - loss: 0.7115 - val_accuracy: 0.7059 - val_loss: 0.8438\n",
            "Epoch 146/200\n",
            "\u001b[1m92/92\u001b[0m \u001b[32m━━━━━━━━━━━━━━━━━━━━\u001b[0m\u001b[37m\u001b[0m \u001b[1m81s\u001b[0m 493ms/step - accuracy: 0.7571 - loss: 0.7077 - val_accuracy: 0.6977 - val_loss: 0.8127\n",
            "Epoch 147/200\n",
            "\u001b[1m92/92\u001b[0m \u001b[32m━━━━━━━━━━━━━━━━━━━━\u001b[0m\u001b[37m\u001b[0m \u001b[1m48s\u001b[0m 525ms/step - accuracy: 0.7471 - loss: 0.7540 - val_accuracy: 0.6936 - val_loss: 0.8189\n",
            "Epoch 148/200\n",
            "\u001b[1m92/92\u001b[0m \u001b[32m━━━━━━━━━━━━━━━━━━━━\u001b[0m\u001b[37m\u001b[0m \u001b[1m80s\u001b[0m 503ms/step - accuracy: 0.7629 - loss: 0.6909 - val_accuracy: 0.7415 - val_loss: 0.7864\n",
            "Epoch 149/200\n",
            "\u001b[1m92/92\u001b[0m \u001b[32m━━━━━━━━━━━━━━━━━━━━\u001b[0m\u001b[37m\u001b[0m \u001b[1m45s\u001b[0m 488ms/step - accuracy: 0.7707 - loss: 0.6153 - val_accuracy: 0.6908 - val_loss: 0.8371\n",
            "Epoch 150/200\n",
            "\u001b[1m92/92\u001b[0m \u001b[32m━━━━━━━━━━━━━━━━━━━━\u001b[0m\u001b[37m\u001b[0m \u001b[1m47s\u001b[0m 506ms/step - accuracy: 0.7638 - loss: 0.6565 - val_accuracy: 0.7155 - val_loss: 0.7900\n",
            "Epoch 151/200\n",
            "\u001b[1m92/92\u001b[0m \u001b[32m━━━━━━━━━━━━━━━━━━━━\u001b[0m\u001b[37m\u001b[0m \u001b[1m45s\u001b[0m 491ms/step - accuracy: 0.7815 - loss: 0.6639 - val_accuracy: 0.7291 - val_loss: 0.8745\n",
            "Epoch 152/200\n",
            "\u001b[1m92/92\u001b[0m \u001b[32m━━━━━━━━━━━━━━━━━━━━\u001b[0m\u001b[37m\u001b[0m \u001b[1m47s\u001b[0m 509ms/step - accuracy: 0.7785 - loss: 0.6736 - val_accuracy: 0.7004 - val_loss: 0.8244\n",
            "Epoch 153/200\n",
            "\u001b[1m92/92\u001b[0m \u001b[32m━━━━━━━━━━━━━━━━━━━━\u001b[0m\u001b[37m\u001b[0m \u001b[1m81s\u001b[0m 501ms/step - accuracy: 0.7792 - loss: 0.6602 - val_accuracy: 0.7442 - val_loss: 0.7634\n",
            "Epoch 154/200\n",
            "\u001b[1m92/92\u001b[0m \u001b[32m━━━━━━━━━━━━━━━━━━━━\u001b[0m\u001b[37m\u001b[0m \u001b[1m46s\u001b[0m 496ms/step - accuracy: 0.7741 - loss: 0.6541 - val_accuracy: 0.6826 - val_loss: 0.8792\n",
            "Epoch 155/200\n",
            "\u001b[1m92/92\u001b[0m \u001b[32m━━━━━━━━━━━━━━━━━━━━\u001b[0m\u001b[37m\u001b[0m \u001b[1m47s\u001b[0m 515ms/step - accuracy: 0.7801 - loss: 0.6566 - val_accuracy: 0.6211 - val_loss: 1.0637\n",
            "Epoch 156/200\n",
            "\u001b[1m92/92\u001b[0m \u001b[32m━━━━━━━━━━━━━━━━━━━━\u001b[0m\u001b[37m\u001b[0m \u001b[1m48s\u001b[0m 524ms/step - accuracy: 0.7325 - loss: 0.8140 - val_accuracy: 0.7073 - val_loss: 0.8072\n",
            "Epoch 157/200\n",
            "\u001b[1m92/92\u001b[0m \u001b[32m━━━━━━━━━━━━━━━━━━━━\u001b[0m\u001b[37m\u001b[0m \u001b[1m46s\u001b[0m 499ms/step - accuracy: 0.7756 - loss: 0.6758 - val_accuracy: 0.6785 - val_loss: 0.8542\n",
            "Epoch 158/200\n",
            "\u001b[1m92/92\u001b[0m \u001b[32m━━━━━━━━━━━━━━━━━━━━\u001b[0m\u001b[37m\u001b[0m \u001b[1m46s\u001b[0m 500ms/step - accuracy: 0.7672 - loss: 0.6588 - val_accuracy: 0.7250 - val_loss: 0.8101\n",
            "Epoch 159/200\n",
            "\u001b[1m92/92\u001b[0m \u001b[32m━━━━━━━━━━━━━━━━━━━━\u001b[0m\u001b[37m\u001b[0m \u001b[1m83s\u001b[0m 507ms/step - accuracy: 0.7824 - loss: 0.6509 - val_accuracy: 0.6361 - val_loss: 0.9604\n",
            "Epoch 160/200\n",
            "\u001b[1m92/92\u001b[0m \u001b[32m━━━━━━━━━━━━━━━━━━━━\u001b[0m\u001b[37m\u001b[0m \u001b[1m45s\u001b[0m 495ms/step - accuracy: 0.7859 - loss: 0.6470 - val_accuracy: 0.7100 - val_loss: 0.8249\n",
            "Epoch 161/200\n",
            "\u001b[1m92/92\u001b[0m \u001b[32m━━━━━━━━━━━━━━━━━━━━\u001b[0m\u001b[37m\u001b[0m \u001b[1m47s\u001b[0m 515ms/step - accuracy: 0.7977 - loss: 0.5977 - val_accuracy: 0.6854 - val_loss: 0.8713\n",
            "Epoch 162/200\n",
            "\u001b[1m92/92\u001b[0m \u001b[32m━━━━━━━━━━━━━━━━━━━━\u001b[0m\u001b[37m\u001b[0m \u001b[1m46s\u001b[0m 502ms/step - accuracy: 0.7734 - loss: 0.6450 - val_accuracy: 0.6963 - val_loss: 0.9358\n",
            "Epoch 163/200\n",
            "\u001b[1m92/92\u001b[0m \u001b[32m━━━━━━━━━━━━━━━━━━━━\u001b[0m\u001b[37m\u001b[0m \u001b[1m47s\u001b[0m 513ms/step - accuracy: 0.8037 - loss: 0.5732 - val_accuracy: 0.7305 - val_loss: 0.7700\n",
            "Epoch 164/200\n",
            "\u001b[1m92/92\u001b[0m \u001b[32m━━━━━━━━━━━━━━━━━━━━\u001b[0m\u001b[37m\u001b[0m \u001b[1m81s\u001b[0m 503ms/step - accuracy: 0.7969 - loss: 0.6253 - val_accuracy: 0.6963 - val_loss: 0.8550\n",
            "Epoch 165/200\n",
            "\u001b[1m92/92\u001b[0m \u001b[32m━━━━━━━━━━━━━━━━━━━━\u001b[0m\u001b[37m\u001b[0m \u001b[1m48s\u001b[0m 525ms/step - accuracy: 0.7787 - loss: 0.5938 - val_accuracy: 0.6977 - val_loss: 0.8596\n",
            "Epoch 166/200\n",
            "\u001b[1m92/92\u001b[0m \u001b[32m━━━━━━━━━━━━━━━━━━━━\u001b[0m\u001b[37m\u001b[0m \u001b[1m46s\u001b[0m 499ms/step - accuracy: 0.7943 - loss: 0.6006 - val_accuracy: 0.7086 - val_loss: 0.8398\n",
            "Epoch 167/200\n",
            "\u001b[1m92/92\u001b[0m \u001b[32m━━━━━━━━━━━━━━━━━━━━\u001b[0m\u001b[37m\u001b[0m \u001b[1m47s\u001b[0m 510ms/step - accuracy: 0.7822 - loss: 0.6119 - val_accuracy: 0.7114 - val_loss: 0.8181\n",
            "Epoch 168/200\n",
            "\u001b[1m92/92\u001b[0m \u001b[32m━━━━━━━━━━━━━━━━━━━━\u001b[0m\u001b[37m\u001b[0m \u001b[1m81s\u001b[0m 498ms/step - accuracy: 0.7801 - loss: 0.6295 - val_accuracy: 0.7031 - val_loss: 0.8473\n",
            "Epoch 169/200\n",
            "\u001b[1m92/92\u001b[0m \u001b[32m━━━━━━━━━━━━━━━━━━━━\u001b[0m\u001b[37m\u001b[0m \u001b[1m46s\u001b[0m 496ms/step - accuracy: 0.7799 - loss: 0.6240 - val_accuracy: 0.7250 - val_loss: 0.8297\n",
            "Epoch 170/200\n",
            "\u001b[1m92/92\u001b[0m \u001b[32m━━━━━━━━━━━━━━━━━━━━\u001b[0m\u001b[37m\u001b[0m \u001b[1m47s\u001b[0m 510ms/step - accuracy: 0.8119 - loss: 0.6166 - val_accuracy: 0.6963 - val_loss: 0.8929\n",
            "Epoch 171/200\n",
            "\u001b[1m92/92\u001b[0m \u001b[32m━━━━━━━━━━━━━━━━━━━━\u001b[0m\u001b[37m\u001b[0m \u001b[1m46s\u001b[0m 496ms/step - accuracy: 0.7875 - loss: 0.5921 - val_accuracy: 0.7428 - val_loss: 0.8238\n",
            "Epoch 172/200\n",
            "\u001b[1m92/92\u001b[0m \u001b[32m━━━━━━━━━━━━━━━━━━━━\u001b[0m\u001b[37m\u001b[0m \u001b[1m47s\u001b[0m 507ms/step - accuracy: 0.7967 - loss: 0.6110 - val_accuracy: 0.6799 - val_loss: 0.8420\n",
            "Epoch 173/200\n",
            "\u001b[1m92/92\u001b[0m \u001b[32m━━━━━━━━━━━━━━━━━━━━\u001b[0m\u001b[37m\u001b[0m \u001b[1m45s\u001b[0m 493ms/step - accuracy: 0.7749 - loss: 0.6058 - val_accuracy: 0.6990 - val_loss: 0.8412\n",
            "Epoch 174/200\n",
            "\u001b[1m92/92\u001b[0m \u001b[32m━━━━━━━━━━━━━━━━━━━━\u001b[0m\u001b[37m\u001b[0m \u001b[1m47s\u001b[0m 514ms/step - accuracy: 0.7795 - loss: 0.6557 - val_accuracy: 0.7483 - val_loss: 0.8400\n",
            "Epoch 175/200\n",
            "\u001b[1m92/92\u001b[0m \u001b[32m━━━━━━━━━━━━━━━━━━━━\u001b[0m\u001b[37m\u001b[0m \u001b[1m45s\u001b[0m 494ms/step - accuracy: 0.7692 - loss: 0.6666 - val_accuracy: 0.7346 - val_loss: 0.8115\n",
            "Epoch 176/200\n",
            "\u001b[1m92/92\u001b[0m \u001b[32m━━━━━━━━━━━━━━━━━━━━\u001b[0m\u001b[37m\u001b[0m \u001b[1m48s\u001b[0m 520ms/step - accuracy: 0.7922 - loss: 0.6038 - val_accuracy: 0.6854 - val_loss: 0.9249\n",
            "Epoch 177/200\n",
            "\u001b[1m92/92\u001b[0m \u001b[32m━━━━━━━━━━━━━━━━━━━━\u001b[0m\u001b[37m\u001b[0m \u001b[1m46s\u001b[0m 497ms/step - accuracy: 0.7996 - loss: 0.5664 - val_accuracy: 0.7073 - val_loss: 0.8276\n",
            "Epoch 178/200\n",
            "\u001b[1m92/92\u001b[0m \u001b[32m━━━━━━━━━━━━━━━━━━━━\u001b[0m\u001b[37m\u001b[0m \u001b[1m47s\u001b[0m 509ms/step - accuracy: 0.7923 - loss: 0.6019 - val_accuracy: 0.6922 - val_loss: 0.8692\n",
            "Epoch 179/200\n",
            "\u001b[1m92/92\u001b[0m \u001b[32m━━━━━━━━━━━━━━━━━━━━\u001b[0m\u001b[37m\u001b[0m \u001b[1m81s\u001b[0m 500ms/step - accuracy: 0.7770 - loss: 0.6471 - val_accuracy: 0.7209 - val_loss: 0.9277\n",
            "Epoch 180/200\n",
            "\u001b[1m92/92\u001b[0m \u001b[32m━━━━━━━━━━━━━━━━━━━━\u001b[0m\u001b[37m\u001b[0m \u001b[1m45s\u001b[0m 491ms/step - accuracy: 0.8145 - loss: 0.5209 - val_accuracy: 0.6895 - val_loss: 0.8830\n",
            "Epoch 181/200\n",
            "\u001b[1m92/92\u001b[0m \u001b[32m━━━━━━━━━━━━━━━━━━━━\u001b[0m\u001b[37m\u001b[0m \u001b[1m84s\u001b[0m 507ms/step - accuracy: 0.7902 - loss: 0.5769 - val_accuracy: 0.7168 - val_loss: 0.8309\n",
            "Epoch 182/200\n",
            "\u001b[1m92/92\u001b[0m \u001b[32m━━━━━━━━━━━━━━━━━━━━\u001b[0m\u001b[37m\u001b[0m \u001b[1m48s\u001b[0m 522ms/step - accuracy: 0.7913 - loss: 0.5986 - val_accuracy: 0.6895 - val_loss: 0.8476\n",
            "Epoch 183/200\n",
            "\u001b[1m92/92\u001b[0m \u001b[32m━━━━━━━━━━━━━━━━━━━━\u001b[0m\u001b[37m\u001b[0m \u001b[1m81s\u001b[0m 507ms/step - accuracy: 0.7850 - loss: 0.5795 - val_accuracy: 0.7168 - val_loss: 0.8046\n",
            "Epoch 184/200\n",
            "\u001b[1m92/92\u001b[0m \u001b[32m━━━━━━━━━━━━━━━━━━━━\u001b[0m\u001b[37m\u001b[0m \u001b[1m45s\u001b[0m 494ms/step - accuracy: 0.7897 - loss: 0.6067 - val_accuracy: 0.7018 - val_loss: 0.8677\n",
            "Epoch 185/200\n",
            "\u001b[1m92/92\u001b[0m \u001b[32m━━━━━━━━━━━━━━━━━━━━\u001b[0m\u001b[37m\u001b[0m \u001b[1m47s\u001b[0m 509ms/step - accuracy: 0.7971 - loss: 0.5936 - val_accuracy: 0.6990 - val_loss: 0.9395\n",
            "Epoch 186/200\n",
            "\u001b[1m92/92\u001b[0m \u001b[32m━━━━━━━━━━━━━━━━━━━━\u001b[0m\u001b[37m\u001b[0m \u001b[1m45s\u001b[0m 494ms/step - accuracy: 0.7898 - loss: 0.5828 - val_accuracy: 0.7086 - val_loss: 0.9222\n",
            "Epoch 187/200\n",
            "\u001b[1m92/92\u001b[0m \u001b[32m━━━━━━━━━━━━━━━━━━━━\u001b[0m\u001b[37m\u001b[0m \u001b[1m48s\u001b[0m 521ms/step - accuracy: 0.7933 - loss: 0.5820 - val_accuracy: 0.7332 - val_loss: 0.7975\n",
            "Epoch 188/200\n",
            "\u001b[1m92/92\u001b[0m \u001b[32m━━━━━━━━━━━━━━━━━━━━\u001b[0m\u001b[37m\u001b[0m \u001b[1m45s\u001b[0m 492ms/step - accuracy: 0.8041 - loss: 0.5558 - val_accuracy: 0.7196 - val_loss: 0.8922\n",
            "Epoch 189/200\n",
            "\u001b[1m92/92\u001b[0m \u001b[32m━━━━━━━━━━━━━━━━━━━━\u001b[0m\u001b[37m\u001b[0m \u001b[1m46s\u001b[0m 501ms/step - accuracy: 0.8095 - loss: 0.5797 - val_accuracy: 0.6977 - val_loss: 0.8963\n",
            "Epoch 190/200\n",
            "\u001b[1m92/92\u001b[0m \u001b[32m━━━━━━━━━━━━━━━━━━━━\u001b[0m\u001b[37m\u001b[0m \u001b[1m82s\u001b[0m 498ms/step - accuracy: 0.8068 - loss: 0.5722 - val_accuracy: 0.7305 - val_loss: 0.8474\n",
            "Epoch 191/200\n",
            "\u001b[1m92/92\u001b[0m \u001b[32m━━━━━━━━━━━━━━━━━━━━\u001b[0m\u001b[37m\u001b[0m \u001b[1m45s\u001b[0m 492ms/step - accuracy: 0.7897 - loss: 0.5917 - val_accuracy: 0.7278 - val_loss: 0.8151\n",
            "Epoch 192/200\n",
            "\u001b[1m92/92\u001b[0m \u001b[32m━━━━━━━━━━━━━━━━━━━━\u001b[0m\u001b[37m\u001b[0m \u001b[1m83s\u001b[0m 505ms/step - accuracy: 0.8072 - loss: 0.5544 - val_accuracy: 0.7086 - val_loss: 0.8825\n",
            "Epoch 193/200\n",
            "\u001b[1m92/92\u001b[0m \u001b[32m━━━━━━━━━━━━━━━━━━━━\u001b[0m\u001b[37m\u001b[0m \u001b[1m48s\u001b[0m 530ms/step - accuracy: 0.7905 - loss: 0.5827 - val_accuracy: 0.7100 - val_loss: 0.8863\n",
            "Epoch 194/200\n",
            "\u001b[1m92/92\u001b[0m \u001b[32m━━━━━━━━━━━━━━━━━━━━\u001b[0m\u001b[37m\u001b[0m \u001b[1m81s\u001b[0m 518ms/step - accuracy: 0.8037 - loss: 0.5377 - val_accuracy: 0.7100 - val_loss: 0.8358\n",
            "Epoch 195/200\n",
            "\u001b[1m92/92\u001b[0m \u001b[32m━━━━━━━━━━━━━━━━━━━━\u001b[0m\u001b[37m\u001b[0m \u001b[1m46s\u001b[0m 497ms/step - accuracy: 0.7950 - loss: 0.5832 - val_accuracy: 0.7483 - val_loss: 0.8430\n",
            "Epoch 196/200\n",
            "\u001b[1m92/92\u001b[0m \u001b[32m━━━━━━━━━━━━━━━━━━━━\u001b[0m\u001b[37m\u001b[0m \u001b[1m47s\u001b[0m 515ms/step - accuracy: 0.8109 - loss: 0.5267 - val_accuracy: 0.6731 - val_loss: 0.9296\n",
            "Epoch 197/200\n",
            "\u001b[1m92/92\u001b[0m \u001b[32m━━━━━━━━━━━━━━━━━━━━\u001b[0m\u001b[37m\u001b[0m \u001b[1m46s\u001b[0m 497ms/step - accuracy: 0.7777 - loss: 0.5881 - val_accuracy: 0.7428 - val_loss: 0.9082\n",
            "Epoch 198/200\n",
            "\u001b[1m92/92\u001b[0m \u001b[32m━━━━━━━━━━━━━━━━━━━━\u001b[0m\u001b[37m\u001b[0m \u001b[1m47s\u001b[0m 516ms/step - accuracy: 0.8141 - loss: 0.5401 - val_accuracy: 0.7415 - val_loss: 0.8525\n",
            "Epoch 199/200\n",
            "\u001b[1m92/92\u001b[0m \u001b[32m━━━━━━━━━━━━━━━━━━━━\u001b[0m\u001b[37m\u001b[0m \u001b[1m46s\u001b[0m 502ms/step - accuracy: 0.8173 - loss: 0.5586 - val_accuracy: 0.7114 - val_loss: 0.9271\n",
            "Epoch 200/200\n",
            "\u001b[1m92/92\u001b[0m \u001b[32m━━━━━━━━━━━━━━━━━━━━\u001b[0m\u001b[37m\u001b[0m \u001b[1m47s\u001b[0m 515ms/step - accuracy: 0.8160 - loss: 0.5548 - val_accuracy: 0.7127 - val_loss: 0.9867\n"
          ]
        },
        {
          "data": {
            "text/plain": [
              "<keras.src.callbacks.history.History at 0x7b4598dad490>"
            ]
          },
          "execution_count": 16,
          "metadata": {},
          "output_type": "execute_result"
        }
      ],
      "source": [
        "model.fit(\n",
        "    train_generator,\n",
        "    epochs=200,\n",
        "    validation_data=val_generator,\n",
        "    class_weight=class_weights\n",
        ")"
      ]
    },
    {
      "cell_type": "code",
      "execution_count": null,
      "metadata": {
        "colab": {
          "base_uri": "https://localhost:8080/"
        },
        "id": "8Ffo4-Dg7UQP",
        "outputId": "dd0f7fae-3b2a-4d88-a34e-e1afaeab0515"
      },
      "outputs": [
        {
          "output_type": "stream",
          "name": "stderr",
          "text": [
            "WARNING:absl:You are saving your model as an HDF5 file via `model.save()` or `keras.saving.save_model(model)`. This file format is considered legacy. We recommend using instead the native Keras format, e.g. `model.save('my_model.keras')` or `keras.saving.save_model(model, 'my_model.keras')`. \n"
          ]
        },
        {
          "output_type": "stream",
          "name": "stdout",
          "text": [
            "Model saved to /content/diabetic_retinopathy_200model.h5\n"
          ]
        }
      ],
      "source": [
        "# Step 10: Save the trained model\n",
        "model.save('/content/diabetic_retinopathy_200model.h5')\n",
        "print(\"Model saved to /content/diabetic_retinopathy_200model.h5\")"
      ]
    },
    {
      "cell_type": "code",
      "execution_count": null,
      "metadata": {
        "colab": {
          "base_uri": "https://localhost:8080/"
        },
        "id": "Z4x4fDwC7UVa",
        "outputId": "8f2b62df-390c-4be8-9691-af181b28e872"
      },
      "outputs": [
        {
          "output_type": "stream",
          "name": "stderr",
          "text": [
            "WARNING:absl:Compiled the loaded model, but the compiled metrics have yet to be built. `model.compile_metrics` will be empty until you train or evaluate the model.\n"
          ]
        },
        {
          "output_type": "stream",
          "name": "stdout",
          "text": [
            "Model loaded from /content/diabetic_retinopathy_200model.h5\n"
          ]
        }
      ],
      "source": [
        "# Step 11: Load the saved model\n",
        "loaded_model = tf.keras.models.load_model('/content/diabetic_retinopathy_200model.h5')\n",
        "print(\"Model loaded from /content/diabetic_retinopathy_200model.h5\")"
      ]
    },
    {
      "cell_type": "code",
      "execution_count": null,
      "metadata": {
        "colab": {
          "base_uri": "https://localhost:8080/",
          "height": 211
        },
        "id": "ZowGcjpM7UZ0",
        "outputId": "9dacd1f3-378b-429b-b8b3-f1363774aab1"
      },
      "outputs": [
        {
          "output_type": "error",
          "ename": "NameError",
          "evalue": "name 'history' is not defined",
          "traceback": [
            "\u001b[0;31m---------------------------------------------------------------------------\u001b[0m",
            "\u001b[0;31mNameError\u001b[0m                                 Traceback (most recent call last)",
            "\u001b[0;32m<ipython-input-22-ad50acd0fb73>\u001b[0m in \u001b[0;36m<cell line: 0>\u001b[0;34m()\u001b[0m\n\u001b[1;32m      1\u001b[0m \u001b[0;31m# Step 7: Plot training results\u001b[0m\u001b[0;34m\u001b[0m\u001b[0;34m\u001b[0m\u001b[0m\n\u001b[0;32m----> 2\u001b[0;31m \u001b[0mplt\u001b[0m\u001b[0;34m.\u001b[0m\u001b[0mplot\u001b[0m\u001b[0;34m(\u001b[0m\u001b[0mhistory\u001b[0m\u001b[0;34m.\u001b[0m\u001b[0mhistory\u001b[0m\u001b[0;34m[\u001b[0m\u001b[0;34m'accuracy'\u001b[0m\u001b[0;34m]\u001b[0m\u001b[0;34m,\u001b[0m \u001b[0mlabel\u001b[0m\u001b[0;34m=\u001b[0m\u001b[0;34m'Train Accuracy'\u001b[0m\u001b[0;34m)\u001b[0m\u001b[0;34m\u001b[0m\u001b[0;34m\u001b[0m\u001b[0m\n\u001b[0m\u001b[1;32m      3\u001b[0m \u001b[0mplt\u001b[0m\u001b[0;34m.\u001b[0m\u001b[0mplot\u001b[0m\u001b[0;34m(\u001b[0m\u001b[0mhistory\u001b[0m\u001b[0;34m.\u001b[0m\u001b[0mhistory\u001b[0m\u001b[0;34m[\u001b[0m\u001b[0;34m'val_accuracy'\u001b[0m\u001b[0;34m]\u001b[0m\u001b[0;34m,\u001b[0m \u001b[0mlabel\u001b[0m\u001b[0;34m=\u001b[0m\u001b[0;34m'Validation Accuracy'\u001b[0m\u001b[0;34m)\u001b[0m\u001b[0;34m\u001b[0m\u001b[0;34m\u001b[0m\u001b[0m\n\u001b[1;32m      4\u001b[0m \u001b[0mplt\u001b[0m\u001b[0;34m.\u001b[0m\u001b[0mlegend\u001b[0m\u001b[0;34m(\u001b[0m\u001b[0;34m)\u001b[0m\u001b[0;34m\u001b[0m\u001b[0;34m\u001b[0m\u001b[0m\n\u001b[1;32m      5\u001b[0m \u001b[0mplt\u001b[0m\u001b[0;34m.\u001b[0m\u001b[0mtitle\u001b[0m\u001b[0;34m(\u001b[0m\u001b[0;34m\"Accuracy over Epochs\"\u001b[0m\u001b[0;34m)\u001b[0m\u001b[0;34m\u001b[0m\u001b[0;34m\u001b[0m\u001b[0m\n",
            "\u001b[0;31mNameError\u001b[0m: name 'history' is not defined"
          ]
        }
      ],
      "source": [
        "# Step 7: Plot training results\n",
        "plt.plot(history.history['accuracy'], label='Train Accuracy')\n",
        "plt.plot(history.history['val_accuracy'], label='Validation Accuracy')\n",
        "plt.legend()\n",
        "plt.title(\"Accuracy over Epochs\")\n",
        "plt.xlabel(\"Epoch\")\n",
        "plt.ylabel(\"Accuracy\")\n",
        "plt.show()\n",
        "\n",
        "plt.plot(history.history['loss'], label='Train Loss')\n",
        "plt.plot(history.history['val_loss'], label='Validation Loss')\n",
        "plt.legend()\n",
        "plt.title(\"Loss over Epochs\")\n",
        "plt.xlabel(\"Epoch\")\n",
        "plt.ylabel(\"Loss\")\n",
        "plt.show()"
      ]
    },
    {
      "cell_type": "code",
      "execution_count": null,
      "metadata": {
        "colab": {
          "base_uri": "https://localhost:8080/"
        },
        "id": "RIX41K4nnS1Z",
        "outputId": "46653cd1-79a6-4572-e63b-92ef22f6a1ee"
      },
      "outputs": [
        {
          "output_type": "stream",
          "name": "stderr",
          "text": [
            "/usr/local/lib/python3.11/dist-packages/keras/src/trainers/data_adapters/py_dataset_adapter.py:121: UserWarning: Your `PyDataset` class should call `super().__init__(**kwargs)` in its constructor. `**kwargs` can include `workers`, `use_multiprocessing`, `max_queue_size`. Do not pass these arguments to `fit()`, as they will be ignored.\n",
            "  self._warn_if_super_not_called()\n"
          ]
        },
        {
          "output_type": "stream",
          "name": "stdout",
          "text": [
            "\u001b[1m23/23\u001b[0m \u001b[32m━━━━━━━━━━━━━━━━━━━━\u001b[0m\u001b[37m\u001b[0m \u001b[1m13s\u001b[0m 414ms/step - accuracy: 0.0805 - loss: 1.6190\n",
            "Validation Accuracy: 10.12%\n"
          ]
        }
      ],
      "source": [
        "# Step 8: Evaluate the model on validation data\n",
        "loss, accuracy = loaded_model.evaluate(val_generator)\n",
        "print(f\"Validation Accuracy: {accuracy * 100:.2f}%\")"
      ]
    },
    {
      "cell_type": "code",
      "execution_count": null,
      "metadata": {
        "colab": {
          "base_uri": "https://localhost:8080/"
        },
        "id": "kDIc6F2xnTWS",
        "outputId": "a3ee3cdc-c17d-4588-f93c-e2234a5075d7"
      },
      "outputs": [
        {
          "output_type": "stream",
          "name": "stdout",
          "text": [
            "\u001b[1m1/1\u001b[0m \u001b[32m━━━━━━━━━━━━━━━━━━━━\u001b[0m\u001b[37m\u001b[0m \u001b[1m1s\u001b[0m 899ms/step\n",
            "Predicted Class: no_dr\n"
          ]
        }
      ],
      "source": [
        "# Step 9: Example of making predictions\n",
        "from tensorflow.keras.preprocessing import image\n",
        "\n",
        "# Load a sample image\n",
        "img_path = \"/content/diabetic_retinopathy/gaussian_filtered_images/Severe/0104b032c141.png\"\n",
        "img = image.load_img(img_path, target_size=(224, 224))\n",
        "img_array = image.img_to_array(img) / 255.0\n",
        "img_array = np.expand_dims(img_array, axis=0)\n",
        "\n",
        "# Make a prediction\n",
        "prediction = loaded_model.predict(img_array)\n",
        "predicted_class = np.argmax(prediction)\n",
        "class_labels = ['no_dr', 'mild', 'moderate', 'severe', 'proliferate_dr']\n",
        "print(f\"Predicted Class: {class_labels[predicted_class]}\")"
      ]
    }
  ],
  "metadata": {
    "accelerator": "GPU",
    "colab": {
      "gpuType": "T4",
      "provenance": []
    },
    "kernelspec": {
      "display_name": "Python 3",
      "name": "python3"
    },
    "language_info": {
      "name": "python"
    }
  },
  "nbformat": 4,
  "nbformat_minor": 0
}